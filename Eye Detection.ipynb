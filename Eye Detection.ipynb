{
  "cells": [
    {
      "cell_type": "markdown",
      "metadata": {
        "id": "h2q27gKz1H20"
      },
      "source": [
        "##### Copyright 2019 The TensorFlow Authors."
      ]
    },
    {
      "cell_type": "code",
      "execution_count": null,
      "metadata": {
        "cellView": "form",
        "id": "TUfAcER1oUS6"
      },
      "outputs": [],
      "source": [
        "#@title Licensed under the Apache License, Version 2.0 (the \"License\");\n",
        "# you may not use this file except in compliance with the License.\n",
        "# You may obtain a copy of the License at\n",
        "#\n",
        "# https://www.apache.org/licenses/LICENSE-2.0\n",
        "#\n",
        "# Unless required by applicable law or agreed to in writing, software\n",
        "# distributed under the License is distributed on an \"AS IS\" BASIS,\n",
        "# WITHOUT WARRANTIES OR CONDITIONS OF ANY KIND, either express or implied.\n",
        "# See the License for the specific language governing permissions and\n",
        "# limitations under the License."
      ]
    },
    {
      "cell_type": "markdown",
      "metadata": {
        "id": "Gb7qyhNL1yWt"
      },
      "source": [
        "# Image classification with TensorFlow Lite Model Maker"
      ]
    },
    {
      "cell_type": "markdown",
      "metadata": {
        "id": "nDABAblytltI"
      },
      "source": [
        "<table class=\"tfo-notebook-buttons\" align=\"left\">\n",
        "  <td>\n",
        "    <a target=\"_blank\" href=\"https://www.tensorflow.org/lite/tutorials/model_maker_image_classification\"><img src=\"https://www.tensorflow.org/images/tf_logo_32px.png\" />View on TensorFlow.org</a>\n",
        "  </td>\n",
        "  <td>\n",
        "    <a target=\"_blank\" href=\"https://colab.research.google.com/github/tensorflow/tensorflow/blob/master/tensorflow/lite/g3doc/tutorials/model_maker_image_classification.ipynb\"><img src=\"https://www.tensorflow.org/images/colab_logo_32px.png\" />Run in Google Colab</a>\n",
        "  </td>\n",
        "  <td>\n",
        "    <a target=\"_blank\" href=\"https://github.com/tensorflow/tensorflow/blob/master/tensorflow/lite/g3doc/tutorials/model_maker_image_classification.ipynb\"><img src=\"https://www.tensorflow.org/images/GitHub-Mark-32px.png\" />View source on GitHub</a>\n",
        "  </td>\n",
        "  <td>\n",
        "    <a href=\"https://storage.googleapis.com/tensorflow_docs/tensorflow/tensorflow/lite/g3doc/tutorials/model_maker_image_classification.ipynb\"><img src=\"https://www.tensorflow.org/images/download_logo_32px.png\" />Download notebook</a>\n",
        "  </td>\n",
        "  <td>\n",
        "    <a href=\"https://tfhub.dev/\"><img src=\"https://www.tensorflow.org/images/hub_logo_32px.png\" />See TF Hub model</a>\n",
        "  </td>\n",
        "</table>"
      ]
    },
    {
      "cell_type": "markdown",
      "metadata": {
        "id": "m86-Nh4pMHqY"
      },
      "source": [
        "The [TensorFlow Lite Model Maker library](https://www.tensorflow.org/lite/guide/model_maker) simplifies the process of adapting and converting a TensorFlow neural-network model to particular input data when deploying this model for on-device ML applications.\n",
        "\n",
        "This notebook shows an end-to-end example that utilizes this Model Maker library to illustrate the adaption and conversion of a commonly-used image classification model to classify flowers on a mobile device."
      ]
    },
    {
      "cell_type": "markdown",
      "metadata": {
        "id": "bcLF2PKkSbV3"
      },
      "source": [
        "## Prerequisites\n",
        "\n",
        "To run this example, we first need to install several required packages, including Model Maker package that in GitHub [repo](https://github.com/tensorflow/examples/tree/master/tensorflow_examples/lite/model_maker)."
      ]
    },
    {
      "cell_type": "code",
      "execution_count": 1,
      "metadata": {
        "id": "6cv3K3oaksJv",
        "outputId": "258e24dd-3437-4142-a1b3-d7df2cc7ad18",
        "colab": {
          "base_uri": "https://localhost:8080/"
        }
      },
      "outputs": [
        {
          "output_type": "stream",
          "name": "stdout",
          "text": [
            "Reading package lists... Done\n",
            "Building dependency tree       \n",
            "Reading state information... Done\n",
            "The following packages were automatically installed and are no longer required:\n",
            "  libnvidia-common-460 nsight-compute-2020.2.0\n",
            "Use 'sudo apt autoremove' to remove them.\n",
            "The following NEW packages will be installed:\n",
            "  libportaudio2\n",
            "0 upgraded, 1 newly installed, 0 to remove and 42 not upgraded.\n",
            "Need to get 64.6 kB of archives.\n",
            "After this operation, 215 kB of additional disk space will be used.\n",
            "Get:1 http://archive.ubuntu.com/ubuntu bionic/universe amd64 libportaudio2 amd64 19.6.0-1 [64.6 kB]\n",
            "Fetched 64.6 kB in 1s (57.9 kB/s)\n",
            "debconf: unable to initialize frontend: Dialog\n",
            "debconf: (No usable dialog-like program is installed, so the dialog based frontend cannot be used. at /usr/share/perl5/Debconf/FrontEnd/Dialog.pm line 76, <> line 1.)\n",
            "debconf: falling back to frontend: Readline\n",
            "debconf: unable to initialize frontend: Readline\n",
            "debconf: (This frontend requires a controlling tty.)\n",
            "debconf: falling back to frontend: Teletype\n",
            "dpkg-preconfigure: unable to re-open stdin: \n",
            "Selecting previously unselected package libportaudio2:amd64.\n",
            "(Reading database ... 155203 files and directories currently installed.)\n",
            "Preparing to unpack .../libportaudio2_19.6.0-1_amd64.deb ...\n",
            "Unpacking libportaudio2:amd64 (19.6.0-1) ...\n",
            "Setting up libportaudio2:amd64 (19.6.0-1) ...\n",
            "Processing triggers for libc-bin (2.27-3ubuntu1.3) ...\n",
            "/sbin/ldconfig.real: /usr/local/lib/python3.7/dist-packages/ideep4py/lib/libmkldnn.so.0 is not a symbolic link\n",
            "\n",
            "\u001b[K     |████████████████████████████████| 642 kB 36.2 MB/s \n",
            "\u001b[K     |████████████████████████████████| 87 kB 9.1 MB/s \n",
            "\u001b[K     |████████████████████████████████| 77 kB 7.6 MB/s \n",
            "\u001b[K     |████████████████████████████████| 3.4 MB 57.3 MB/s \n",
            "\u001b[K     |████████████████████████████████| 237 kB 68.0 MB/s \n",
            "\u001b[K     |████████████████████████████████| 120 kB 78.0 MB/s \n",
            "\u001b[K     |████████████████████████████████| 1.2 MB 55.5 MB/s \n",
            "\u001b[K     |████████████████████████████████| 42.5 MB 1.2 MB/s \n",
            "\u001b[K     |████████████████████████████████| 6.4 MB 42.6 MB/s \n",
            "\u001b[K     |████████████████████████████████| 1.1 MB 51.8 MB/s \n",
            "\u001b[K     |████████████████████████████████| 596 kB 48.9 MB/s \n",
            "\u001b[K     |████████████████████████████████| 10.9 MB 13.7 MB/s \n",
            "\u001b[K     |████████████████████████████████| 840 kB 54.6 MB/s \n",
            "\u001b[K     |████████████████████████████████| 25.3 MB 1.8 MB/s \n",
            "\u001b[K     |████████████████████████████████| 47.8 MB 58 kB/s \n",
            "\u001b[K     |████████████████████████████████| 99 kB 12.3 MB/s \n",
            "\u001b[K     |████████████████████████████████| 352 kB 60.6 MB/s \n",
            "\u001b[K     |████████████████████████████████| 462 kB 64.8 MB/s \n",
            "\u001b[K     |████████████████████████████████| 213 kB 79.8 MB/s \n",
            "\u001b[K     |████████████████████████████████| 1.0 MB 51.6 MB/s \n",
            "\u001b[?25h  Building wheel for fire (setup.py) ... \u001b[?25l\u001b[?25hdone\n",
            "  Building wheel for py-cpuinfo (setup.py) ... \u001b[?25l\u001b[?25hdone\n"
          ]
        }
      ],
      "source": [
        "!sudo apt -y install libportaudio2\n",
        "!pip install -q tflite-model-maker"
      ]
    },
    {
      "cell_type": "markdown",
      "metadata": {
        "id": "Gx1HGRoFQ54j"
      },
      "source": [
        "Import the required packages."
      ]
    },
    {
      "cell_type": "code",
      "execution_count": 2,
      "metadata": {
        "id": "XtxiUeZEiXpt"
      },
      "outputs": [],
      "source": [
        "import os\n",
        "\n",
        "import numpy as np\n",
        "\n",
        "import tensorflow as tf\n",
        "assert tf.__version__.startswith('2')\n",
        "\n",
        "from tflite_model_maker import model_spec\n",
        "from tflite_model_maker import image_classifier\n",
        "from tflite_model_maker.config import ExportFormat\n",
        "from tflite_model_maker.config import QuantizationConfig\n",
        "from tflite_model_maker.image_classifier import DataLoader\n",
        "\n",
        "import matplotlib.pyplot as plt"
      ]
    },
    {
      "cell_type": "code",
      "source": [
        "from google.colab import drive\n",
        "drive.mount('/content/gdrive')"
      ],
      "metadata": {
        "id": "zIefYb0yqePX",
        "outputId": "813e05ad-552b-4fa9-a4fe-59f67ed74e8b",
        "colab": {
          "base_uri": "https://localhost:8080/"
        }
      },
      "execution_count": 4,
      "outputs": [
        {
          "output_type": "stream",
          "name": "stdout",
          "text": [
            "Mounted at /content/gdrive\n"
          ]
        }
      ]
    },
    {
      "cell_type": "code",
      "source": [
        "from google.colab import files\n",
        "files.upload()"
      ],
      "metadata": {
        "id": "l1dt6ybdrUGT",
        "outputId": "aab1850a-12ee-48c8-bf09-e272fbd7631f",
        "colab": {
          "resources": {
            "http://localhost:8080/nbextensions/google.colab/files.js": {
              "data": "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",
              "ok": true,
              "headers": [
                [
                  "content-type",
                  "application/javascript"
                ]
              ],
              "status": 200,
              "status_text": ""
            }
          },
          "base_uri": "https://localhost:8080/",
          "height": 90
        }
      },
      "execution_count": 5,
      "outputs": [
        {
          "output_type": "display_data",
          "data": {
            "text/plain": [
              "<IPython.core.display.HTML object>"
            ],
            "text/html": [
              "\n",
              "     <input type=\"file\" id=\"files-8a027621-4730-475f-93c3-bc7451025647\" name=\"files[]\" multiple disabled\n",
              "        style=\"border:none\" />\n",
              "     <output id=\"result-8a027621-4730-475f-93c3-bc7451025647\">\n",
              "      Upload widget is only available when the cell has been executed in the\n",
              "      current browser session. Please rerun this cell to enable.\n",
              "      </output>\n",
              "      <script src=\"/nbextensions/google.colab/files.js\"></script> "
            ]
          },
          "metadata": {}
        },
        {
          "output_type": "stream",
          "name": "stdout",
          "text": [
            "Saving kaggle.json to kaggle.json\n"
          ]
        },
        {
          "output_type": "execute_result",
          "data": {
            "text/plain": [
              "{'kaggle.json': b'{\"username\":\"zaibekhan\",\"key\":\"6e190b7263a1557c95c9f80519e3301d\"}'}"
            ]
          },
          "metadata": {},
          "execution_count": 5
        }
      ]
    },
    {
      "cell_type": "code",
      "source": [
        "!pip install -q kaggle\n",
        "!mkdir -p ~/.kaggle\n",
        "!cp kaggle.json ~/.kaggle/\n",
        "!ls ~/.kaggle\n",
        "!chmod 600 /root/.kaggle/kaggle.json  # set permission"
      ],
      "metadata": {
        "id": "HLWLn1r8rja2",
        "outputId": "a82dea94-8fc5-421c-a7e4-eb38670b9900",
        "colab": {
          "base_uri": "https://localhost:8080/"
        }
      },
      "execution_count": 6,
      "outputs": [
        {
          "output_type": "stream",
          "name": "stdout",
          "text": [
            "kaggle.json\n"
          ]
        }
      ]
    },
    {
      "cell_type": "code",
      "source": [
        "! kaggle datasets download jr2ngb/cataractdataset"
      ],
      "metadata": {
        "id": "4S_MDC2Wr2AY",
        "outputId": "6798e31b-6eba-4fef-8555-488c6d8bc96e",
        "colab": {
          "base_uri": "https://localhost:8080/"
        }
      },
      "execution_count": 10,
      "outputs": [
        {
          "output_type": "stream",
          "name": "stdout",
          "text": [
            "Downloading cataractdataset.zip to /content\n",
            "100% 3.33G/3.34G [01:39<00:00, 34.8MB/s]\n",
            "100% 3.34G/3.34G [01:39<00:00, 36.0MB/s]\n"
          ]
        }
      ]
    },
    {
      "cell_type": "code",
      "source": [
        "! unzip cataractdataset.zip"
      ],
      "metadata": {
        "id": "4RKntDSnvC4M",
        "outputId": "203296c0-51f0-4f63-b02b-4068ab4df730",
        "colab": {
          "base_uri": "https://localhost:8080/"
        }
      },
      "execution_count": 11,
      "outputs": [
        {
          "output_type": "stream",
          "name": "stdout",
          "text": [
            "Archive:  cataractdataset.zip\n",
            "  inflating: README.md               \n",
            "  inflating: dataset/1_normal/NL_001.png  \n",
            "  inflating: dataset/1_normal/NL_002.png  \n",
            "  inflating: dataset/1_normal/NL_003.png  \n",
            "  inflating: dataset/1_normal/NL_004.png  \n",
            "  inflating: dataset/1_normal/NL_005.png  \n",
            "  inflating: dataset/1_normal/NL_006.png  \n",
            "  inflating: dataset/1_normal/NL_007.png  \n",
            "  inflating: dataset/1_normal/NL_008.png  \n",
            "  inflating: dataset/1_normal/NL_009.png  \n",
            "  inflating: dataset/1_normal/NL_010.png  \n",
            "  inflating: dataset/1_normal/NL_011.png  \n",
            "  inflating: dataset/1_normal/NL_012.png  \n",
            "  inflating: dataset/1_normal/NL_013.png  \n",
            "  inflating: dataset/1_normal/NL_014.png  \n",
            "  inflating: dataset/1_normal/NL_015.png  \n",
            "  inflating: dataset/1_normal/NL_016.png  \n",
            "  inflating: dataset/1_normal/NL_017.png  \n",
            "  inflating: dataset/1_normal/NL_018.png  \n",
            "  inflating: dataset/1_normal/NL_019.png  \n",
            "  inflating: dataset/1_normal/NL_020.png  \n",
            "  inflating: dataset/1_normal/NL_021.png  \n",
            "  inflating: dataset/1_normal/NL_022.png  \n",
            "  inflating: dataset/1_normal/NL_023.png  \n",
            "  inflating: dataset/1_normal/NL_024.png  \n",
            "  inflating: dataset/1_normal/NL_025.png  \n",
            "  inflating: dataset/1_normal/NL_026.png  \n",
            "  inflating: dataset/1_normal/NL_027.png  \n",
            "  inflating: dataset/1_normal/NL_028.png  \n",
            "  inflating: dataset/1_normal/NL_029.png  \n",
            "  inflating: dataset/1_normal/NL_030.png  \n",
            "  inflating: dataset/1_normal/NL_031.png  \n",
            "  inflating: dataset/1_normal/NL_032.png  \n",
            "  inflating: dataset/1_normal/NL_033.png  \n",
            "  inflating: dataset/1_normal/NL_034.png  \n",
            "  inflating: dataset/1_normal/NL_035.png  \n",
            "  inflating: dataset/1_normal/NL_036.png  \n",
            "  inflating: dataset/1_normal/NL_037.png  \n",
            "  inflating: dataset/1_normal/NL_038.png  \n",
            "  inflating: dataset/1_normal/NL_039.png  \n",
            "  inflating: dataset/1_normal/NL_040.png  \n",
            "  inflating: dataset/1_normal/NL_041.png  \n",
            "  inflating: dataset/1_normal/NL_042.png  \n",
            "  inflating: dataset/1_normal/NL_043.png  \n",
            "  inflating: dataset/1_normal/NL_044.png  \n",
            "  inflating: dataset/1_normal/NL_045.png  \n",
            "  inflating: dataset/1_normal/NL_046.png  \n",
            "  inflating: dataset/1_normal/NL_047.png  \n",
            "  inflating: dataset/1_normal/NL_048.png  \n",
            "  inflating: dataset/1_normal/NL_049.png  \n",
            "  inflating: dataset/1_normal/NL_050.png  \n",
            "  inflating: dataset/1_normal/NL_051.png  \n",
            "  inflating: dataset/1_normal/NL_052.png  \n",
            "  inflating: dataset/1_normal/NL_053.png  \n",
            "  inflating: dataset/1_normal/NL_054.png  \n",
            "  inflating: dataset/1_normal/NL_055.png  \n",
            "  inflating: dataset/1_normal/NL_056.png  \n",
            "  inflating: dataset/1_normal/NL_057.png  \n",
            "  inflating: dataset/1_normal/NL_058.png  \n",
            "  inflating: dataset/1_normal/NL_059.png  \n",
            "  inflating: dataset/1_normal/NL_060.png  \n",
            "  inflating: dataset/1_normal/NL_061.png  \n",
            "  inflating: dataset/1_normal/NL_062.png  \n",
            "  inflating: dataset/1_normal/NL_063.png  \n",
            "  inflating: dataset/1_normal/NL_064.png  \n",
            "  inflating: dataset/1_normal/NL_065.png  \n",
            "  inflating: dataset/1_normal/NL_066.png  \n",
            "  inflating: dataset/1_normal/NL_067.png  \n",
            "  inflating: dataset/1_normal/NL_068.png  \n",
            "  inflating: dataset/1_normal/NL_069.png  \n",
            "  inflating: dataset/1_normal/NL_070.png  \n",
            "  inflating: dataset/1_normal/NL_071.png  \n",
            "  inflating: dataset/1_normal/NL_072.png  \n",
            "  inflating: dataset/1_normal/NL_073.png  \n",
            "  inflating: dataset/1_normal/NL_074.png  \n",
            "  inflating: dataset/1_normal/NL_075.png  \n",
            "  inflating: dataset/1_normal/NL_076.png  \n",
            "  inflating: dataset/1_normal/NL_077.png  \n",
            "  inflating: dataset/1_normal/NL_078.png  \n",
            "  inflating: dataset/1_normal/NL_079.png  \n",
            "  inflating: dataset/1_normal/NL_080.png  \n",
            "  inflating: dataset/1_normal/NL_081.png  \n",
            "  inflating: dataset/1_normal/NL_082.png  \n",
            "  inflating: dataset/1_normal/NL_083.png  \n",
            "  inflating: dataset/1_normal/NL_084.png  \n",
            "  inflating: dataset/1_normal/NL_085.png  \n",
            "  inflating: dataset/1_normal/NL_086.png  \n",
            "  inflating: dataset/1_normal/NL_087.png  \n",
            "  inflating: dataset/1_normal/NL_088.png  \n",
            "  inflating: dataset/1_normal/NL_089.png  \n",
            "  inflating: dataset/1_normal/NL_090.png  \n",
            "  inflating: dataset/1_normal/NL_091.png  \n",
            "  inflating: dataset/1_normal/NL_092.png  \n",
            "  inflating: dataset/1_normal/NL_093.png  \n",
            "  inflating: dataset/1_normal/NL_094.png  \n",
            "  inflating: dataset/1_normal/NL_095.png  \n",
            "  inflating: dataset/1_normal/NL_096.png  \n",
            "  inflating: dataset/1_normal/NL_097.png  \n",
            "  inflating: dataset/1_normal/NL_098.png  \n",
            "  inflating: dataset/1_normal/NL_099.png  \n",
            "  inflating: dataset/1_normal/NL_100.png  \n",
            "  inflating: dataset/1_normal/NL_101.png  \n",
            "  inflating: dataset/1_normal/NL_102.png  \n",
            "  inflating: dataset/1_normal/NL_103.png  \n",
            "  inflating: dataset/1_normal/NL_104.png  \n",
            "  inflating: dataset/1_normal/NL_105.png  \n",
            "  inflating: dataset/1_normal/NL_106.png  \n",
            "  inflating: dataset/1_normal/NL_107.png  \n",
            "  inflating: dataset/1_normal/NL_108.png  \n",
            "  inflating: dataset/1_normal/NL_109.png  \n",
            "  inflating: dataset/1_normal/NL_110.png  \n",
            "  inflating: dataset/1_normal/NL_111.png  \n",
            "  inflating: dataset/1_normal/NL_112.png  \n",
            "  inflating: dataset/1_normal/NL_113.png  \n",
            "  inflating: dataset/1_normal/NL_114.png  \n",
            "  inflating: dataset/1_normal/NL_115.png  \n",
            "  inflating: dataset/1_normal/NL_116.png  \n",
            "  inflating: dataset/1_normal/NL_117.png  \n",
            "  inflating: dataset/1_normal/NL_118.png  \n",
            "  inflating: dataset/1_normal/NL_119.png  \n",
            "  inflating: dataset/1_normal/NL_120.png  \n",
            "  inflating: dataset/1_normal/NL_121.png  \n",
            "  inflating: dataset/1_normal/NL_122.png  \n",
            "  inflating: dataset/1_normal/NL_123.png  \n",
            "  inflating: dataset/1_normal/NL_124.png  \n",
            "  inflating: dataset/1_normal/NL_125.png  \n",
            "  inflating: dataset/1_normal/NL_126.png  \n",
            "  inflating: dataset/1_normal/NL_127.png  \n",
            "  inflating: dataset/1_normal/NL_128.png  \n",
            "  inflating: dataset/1_normal/NL_129.png  \n",
            "  inflating: dataset/1_normal/NL_130.png  \n",
            "  inflating: dataset/1_normal/NL_131.png  \n",
            "  inflating: dataset/1_normal/NL_132.png  \n",
            "  inflating: dataset/1_normal/NL_133.png  \n",
            "  inflating: dataset/1_normal/NL_134.png  \n",
            "  inflating: dataset/1_normal/NL_135.png  \n",
            "  inflating: dataset/1_normal/NL_136.png  \n",
            "  inflating: dataset/1_normal/NL_137.png  \n",
            "  inflating: dataset/1_normal/NL_138.png  \n",
            "  inflating: dataset/1_normal/NL_139.png  \n",
            "  inflating: dataset/1_normal/NL_140.png  \n",
            "  inflating: dataset/1_normal/NL_141.png  \n",
            "  inflating: dataset/1_normal/NL_142.png  \n",
            "  inflating: dataset/1_normal/NL_143.png  \n",
            "  inflating: dataset/1_normal/NL_144.png  \n",
            "  inflating: dataset/1_normal/NL_145.png  \n",
            "  inflating: dataset/1_normal/NL_146.png  \n",
            "  inflating: dataset/1_normal/NL_147.png  \n",
            "  inflating: dataset/1_normal/NL_148.png  \n",
            "  inflating: dataset/1_normal/NL_149.png  \n",
            "  inflating: dataset/1_normal/NL_150.png  \n",
            "  inflating: dataset/1_normal/NL_151.png  \n",
            "  inflating: dataset/1_normal/NL_152.png  \n",
            "  inflating: dataset/1_normal/NL_153.png  \n",
            "  inflating: dataset/1_normal/NL_154.png  \n",
            "  inflating: dataset/1_normal/NL_155.png  \n",
            "  inflating: dataset/1_normal/NL_156.png  \n",
            "  inflating: dataset/1_normal/NL_157.png  \n",
            "  inflating: dataset/1_normal/NL_158.png  \n",
            "  inflating: dataset/1_normal/NL_159.png  \n",
            "  inflating: dataset/1_normal/NL_160.png  \n",
            "  inflating: dataset/1_normal/NL_161.png  \n",
            "  inflating: dataset/1_normal/NL_162.png  \n",
            "  inflating: dataset/1_normal/NL_163.png  \n",
            "  inflating: dataset/1_normal/NL_164.png  \n",
            "  inflating: dataset/1_normal/NL_165.png  \n",
            "  inflating: dataset/1_normal/NL_166.png  \n",
            "  inflating: dataset/1_normal/NL_167.png  \n",
            "  inflating: dataset/1_normal/NL_168.png  \n",
            "  inflating: dataset/1_normal/NL_169.png  \n",
            "  inflating: dataset/1_normal/NL_170.png  \n",
            "  inflating: dataset/1_normal/NL_171.png  \n",
            "  inflating: dataset/1_normal/NL_172.png  \n",
            "  inflating: dataset/1_normal/NL_173.png  \n",
            "  inflating: dataset/1_normal/NL_174.png  \n",
            "  inflating: dataset/1_normal/NL_175.png  \n",
            "  inflating: dataset/1_normal/NL_176.png  \n",
            "  inflating: dataset/1_normal/NL_177.png  \n",
            "  inflating: dataset/1_normal/NL_178.png  \n",
            "  inflating: dataset/1_normal/NL_179.png  \n",
            "  inflating: dataset/1_normal/NL_180.png  \n",
            "  inflating: dataset/1_normal/NL_181.png  \n",
            "  inflating: dataset/1_normal/NL_182.png  \n",
            "  inflating: dataset/1_normal/NL_183.png  \n",
            "  inflating: dataset/1_normal/NL_184.png  \n",
            "  inflating: dataset/1_normal/NL_185.png  \n",
            "  inflating: dataset/1_normal/NL_186.png  \n",
            "  inflating: dataset/1_normal/NL_187.png  \n",
            "  inflating: dataset/1_normal/NL_188.png  \n",
            "  inflating: dataset/1_normal/NL_189.png  \n",
            "  inflating: dataset/1_normal/NL_190.png  \n",
            "  inflating: dataset/1_normal/NL_191.png  \n",
            "  inflating: dataset/1_normal/NL_192.png  \n",
            "  inflating: dataset/1_normal/NL_193.png  \n",
            "  inflating: dataset/1_normal/NL_194.png  \n",
            "  inflating: dataset/1_normal/NL_195.png  \n",
            "  inflating: dataset/1_normal/NL_196.png  \n",
            "  inflating: dataset/1_normal/NL_197.png  \n",
            "  inflating: dataset/1_normal/NL_198.png  \n",
            "  inflating: dataset/1_normal/NL_199.png  \n",
            "  inflating: dataset/1_normal/NL_200.png  \n",
            "  inflating: dataset/1_normal/NL_201.png  \n",
            "  inflating: dataset/1_normal/NL_202.png  \n",
            "  inflating: dataset/1_normal/NL_203.png  \n",
            "  inflating: dataset/1_normal/NL_204.png  \n",
            "  inflating: dataset/1_normal/NL_205.png  \n",
            "  inflating: dataset/1_normal/NL_206.png  \n",
            "  inflating: dataset/1_normal/NL_207.png  \n",
            "  inflating: dataset/1_normal/NL_208.png  \n",
            "  inflating: dataset/1_normal/NL_209.png  \n",
            "  inflating: dataset/1_normal/NL_210.png  \n",
            "  inflating: dataset/1_normal/NL_211.png  \n",
            "  inflating: dataset/1_normal/NL_212.png  \n",
            "  inflating: dataset/1_normal/NL_213.png  \n",
            "  inflating: dataset/1_normal/NL_214.png  \n",
            "  inflating: dataset/1_normal/NL_215.png  \n",
            "  inflating: dataset/1_normal/NL_216.png  \n",
            "  inflating: dataset/1_normal/NL_217.png  \n",
            "  inflating: dataset/1_normal/NL_218.png  \n",
            "  inflating: dataset/1_normal/NL_219.png  \n",
            "  inflating: dataset/1_normal/NL_220.png  \n",
            "  inflating: dataset/1_normal/NL_221.png  \n",
            "  inflating: dataset/1_normal/NL_222.png  \n",
            "  inflating: dataset/1_normal/NL_223.png  \n",
            "  inflating: dataset/1_normal/NL_224.png  \n",
            "  inflating: dataset/1_normal/NL_225.png  \n",
            "  inflating: dataset/1_normal/NL_226.png  \n",
            "  inflating: dataset/1_normal/NL_227.png  \n",
            "  inflating: dataset/1_normal/NL_228.png  \n",
            "  inflating: dataset/1_normal/NL_229.png  \n",
            "  inflating: dataset/1_normal/NL_230.png  \n",
            "  inflating: dataset/1_normal/NL_231.png  \n",
            "  inflating: dataset/1_normal/NL_232.png  \n",
            "  inflating: dataset/1_normal/NL_233.png  \n",
            "  inflating: dataset/1_normal/NL_234.png  \n",
            "  inflating: dataset/1_normal/NL_235.png  \n",
            "  inflating: dataset/1_normal/NL_236.png  \n",
            "  inflating: dataset/1_normal/NL_237.png  \n",
            "  inflating: dataset/1_normal/NL_238.png  \n",
            "  inflating: dataset/1_normal/NL_239.png  \n",
            "  inflating: dataset/1_normal/NL_240.png  \n",
            "  inflating: dataset/1_normal/NL_241.png  \n",
            "  inflating: dataset/1_normal/NL_242.png  \n",
            "  inflating: dataset/1_normal/NL_243.png  \n",
            "  inflating: dataset/1_normal/NL_244.png  \n",
            "  inflating: dataset/1_normal/NL_245.png  \n",
            "  inflating: dataset/1_normal/NL_246.png  \n",
            "  inflating: dataset/1_normal/NL_247.png  \n",
            "  inflating: dataset/1_normal/NL_248.png  \n",
            "  inflating: dataset/1_normal/NL_249.png  \n",
            "  inflating: dataset/1_normal/NL_250.png  \n",
            "  inflating: dataset/1_normal/NL_251.png  \n",
            "  inflating: dataset/1_normal/NL_252.png  \n",
            "  inflating: dataset/1_normal/NL_253.png  \n",
            "  inflating: dataset/1_normal/NL_254.png  \n",
            "  inflating: dataset/1_normal/NL_255.png  \n",
            "  inflating: dataset/1_normal/NL_256.png  \n",
            "  inflating: dataset/1_normal/NL_257.png  \n",
            "  inflating: dataset/1_normal/NL_258.png  \n",
            "  inflating: dataset/1_normal/NL_259.png  \n",
            "  inflating: dataset/1_normal/NL_260.png  \n",
            "  inflating: dataset/1_normal/NL_261.png  \n",
            "  inflating: dataset/1_normal/NL_262.png  \n",
            "  inflating: dataset/1_normal/NL_263.png  \n",
            "  inflating: dataset/1_normal/NL_264.png  \n",
            "  inflating: dataset/1_normal/NL_265.png  \n",
            "  inflating: dataset/1_normal/NL_266.png  \n",
            "  inflating: dataset/1_normal/NL_267.png  \n",
            "  inflating: dataset/1_normal/NL_268.png  \n",
            "  inflating: dataset/1_normal/NL_269.png  \n",
            "  inflating: dataset/1_normal/NL_270.png  \n",
            "  inflating: dataset/1_normal/NL_271.png  \n",
            "  inflating: dataset/1_normal/NL_272.png  \n",
            "  inflating: dataset/1_normal/NL_273.png  \n",
            "  inflating: dataset/1_normal/NL_274.png  \n",
            "  inflating: dataset/1_normal/NL_275.png  \n",
            "  inflating: dataset/1_normal/NL_276.png  \n",
            "  inflating: dataset/1_normal/NL_277.png  \n",
            "  inflating: dataset/1_normal/NL_278.png  \n",
            "  inflating: dataset/1_normal/NL_279.png  \n",
            "  inflating: dataset/1_normal/NL_280.png  \n",
            "  inflating: dataset/1_normal/NL_281.png  \n",
            "  inflating: dataset/1_normal/NL_282.png  \n",
            "  inflating: dataset/1_normal/NL_283.png  \n",
            "  inflating: dataset/1_normal/NL_284.png  \n",
            "  inflating: dataset/1_normal/NL_285.png  \n",
            "  inflating: dataset/1_normal/NL_286.png  \n",
            "  inflating: dataset/1_normal/NL_287.png  \n",
            "  inflating: dataset/1_normal/NL_288.png  \n",
            "  inflating: dataset/1_normal/NL_289.png  \n",
            "  inflating: dataset/1_normal/NL_290.png  \n",
            "  inflating: dataset/1_normal/NL_291.png  \n",
            "  inflating: dataset/1_normal/NL_292.png  \n",
            "  inflating: dataset/1_normal/NL_293.png  \n",
            "  inflating: dataset/1_normal/NL_294.png  \n",
            "  inflating: dataset/1_normal/NL_295.png  \n",
            "  inflating: dataset/1_normal/NL_296.png  \n",
            "  inflating: dataset/1_normal/NL_297.png  \n",
            "  inflating: dataset/1_normal/NL_298.png  \n",
            "  inflating: dataset/1_normal/NL_299.png  \n",
            "  inflating: dataset/1_normal/NL_300.png  \n",
            "  inflating: dataset/2_cataract/cataract_001.png  \n",
            "  inflating: dataset/2_cataract/cataract_002.png  \n",
            "  inflating: dataset/2_cataract/cataract_003.png  \n",
            "  inflating: dataset/2_cataract/cataract_004.png  \n",
            "  inflating: dataset/2_cataract/cataract_005.png  \n",
            "  inflating: dataset/2_cataract/cataract_006.png  \n",
            "  inflating: dataset/2_cataract/cataract_007.png  \n",
            "  inflating: dataset/2_cataract/cataract_008.png  \n",
            "  inflating: dataset/2_cataract/cataract_009.png  \n",
            "  inflating: dataset/2_cataract/cataract_010.png  \n",
            "  inflating: dataset/2_cataract/cataract_011.png  \n",
            "  inflating: dataset/2_cataract/cataract_012.png  \n",
            "  inflating: dataset/2_cataract/cataract_013.png  \n",
            "  inflating: dataset/2_cataract/cataract_014.png  \n",
            "  inflating: dataset/2_cataract/cataract_015.png  \n",
            "  inflating: dataset/2_cataract/cataract_016.png  \n",
            "  inflating: dataset/2_cataract/cataract_017.png  \n",
            "  inflating: dataset/2_cataract/cataract_018.png  \n",
            "  inflating: dataset/2_cataract/cataract_019.png  \n",
            "  inflating: dataset/2_cataract/cataract_020.png  \n",
            "  inflating: dataset/2_cataract/cataract_021.png  \n",
            "  inflating: dataset/2_cataract/cataract_022.png  \n",
            "  inflating: dataset/2_cataract/cataract_023.png  \n",
            "  inflating: dataset/2_cataract/cataract_024.png  \n",
            "  inflating: dataset/2_cataract/cataract_025.png  \n",
            "  inflating: dataset/2_cataract/cataract_026.png  \n",
            "  inflating: dataset/2_cataract/cataract_027.png  \n",
            "  inflating: dataset/2_cataract/cataract_028.png  \n",
            "  inflating: dataset/2_cataract/cataract_029.png  \n",
            "  inflating: dataset/2_cataract/cataract_030.png  \n",
            "  inflating: dataset/2_cataract/cataract_031.png  \n",
            "  inflating: dataset/2_cataract/cataract_032.png  \n",
            "  inflating: dataset/2_cataract/cataract_033.png  \n",
            "  inflating: dataset/2_cataract/cataract_034.png  \n",
            "  inflating: dataset/2_cataract/cataract_035.png  \n",
            "  inflating: dataset/2_cataract/cataract_036.png  \n",
            "  inflating: dataset/2_cataract/cataract_037.png  \n",
            "  inflating: dataset/2_cataract/cataract_038.png  \n",
            "  inflating: dataset/2_cataract/cataract_039.png  \n",
            "  inflating: dataset/2_cataract/cataract_040.png  \n",
            "  inflating: dataset/2_cataract/cataract_041.png  \n",
            "  inflating: dataset/2_cataract/cataract_042.png  \n",
            "  inflating: dataset/2_cataract/cataract_043.png  \n",
            "  inflating: dataset/2_cataract/cataract_044.png  \n",
            "  inflating: dataset/2_cataract/cataract_045.png  \n",
            "  inflating: dataset/2_cataract/cataract_046.png  \n",
            "  inflating: dataset/2_cataract/cataract_047.png  \n",
            "  inflating: dataset/2_cataract/cataract_048.png  \n",
            "  inflating: dataset/2_cataract/cataract_049.png  \n",
            "  inflating: dataset/2_cataract/cataract_050.png  \n",
            "  inflating: dataset/2_cataract/cataract_051.png  \n",
            "  inflating: dataset/2_cataract/cataract_052.png  \n",
            "  inflating: dataset/2_cataract/cataract_053.png  \n",
            "  inflating: dataset/2_cataract/cataract_054.png  \n",
            "  inflating: dataset/2_cataract/cataract_055.png  \n",
            "  inflating: dataset/2_cataract/cataract_056.png  \n",
            "  inflating: dataset/2_cataract/cataract_057.png  \n",
            "  inflating: dataset/2_cataract/cataract_058.png  \n",
            "  inflating: dataset/2_cataract/cataract_059.png  \n",
            "  inflating: dataset/2_cataract/cataract_060.png  \n",
            "  inflating: dataset/2_cataract/cataract_061.png  \n",
            "  inflating: dataset/2_cataract/cataract_062.png  \n",
            "  inflating: dataset/2_cataract/cataract_063.png  \n",
            "  inflating: dataset/2_cataract/cataract_064.png  \n",
            "  inflating: dataset/2_cataract/cataract_065.png  \n",
            "  inflating: dataset/2_cataract/cataract_066.png  \n",
            "  inflating: dataset/2_cataract/cataract_067.png  \n",
            "  inflating: dataset/2_cataract/cataract_068.png  \n",
            "  inflating: dataset/2_cataract/cataract_069.png  \n",
            "  inflating: dataset/2_cataract/cataract_070.png  \n",
            "  inflating: dataset/2_cataract/cataract_071.png  \n",
            "  inflating: dataset/2_cataract/cataract_072.png  \n",
            "  inflating: dataset/2_cataract/cataract_073.png  \n",
            "  inflating: dataset/2_cataract/cataract_074.png  \n",
            "  inflating: dataset/2_cataract/cataract_075.png  \n",
            "  inflating: dataset/2_cataract/cataract_076.png  \n",
            "  inflating: dataset/2_cataract/cataract_077.png  \n",
            "  inflating: dataset/2_cataract/cataract_078.png  \n",
            "  inflating: dataset/2_cataract/cataract_079.png  \n",
            "  inflating: dataset/2_cataract/cataract_080.png  \n",
            "  inflating: dataset/2_cataract/cataract_081.png  \n",
            "  inflating: dataset/2_cataract/cataract_082.png  \n",
            "  inflating: dataset/2_cataract/cataract_083.png  \n",
            "  inflating: dataset/2_cataract/cataract_084.png  \n",
            "  inflating: dataset/2_cataract/cataract_085.png  \n",
            "  inflating: dataset/2_cataract/cataract_086.png  \n",
            "  inflating: dataset/2_cataract/cataract_087.png  \n",
            "  inflating: dataset/2_cataract/cataract_088.png  \n",
            "  inflating: dataset/2_cataract/cataract_089.png  \n",
            "  inflating: dataset/2_cataract/cataract_090.png  \n",
            "  inflating: dataset/2_cataract/cataract_091.png  \n",
            "  inflating: dataset/2_cataract/cataract_092.png  \n",
            "  inflating: dataset/2_cataract/cataract_093.png  \n",
            "  inflating: dataset/2_cataract/cataract_094.png  \n",
            "  inflating: dataset/2_cataract/cataract_095.png  \n",
            "  inflating: dataset/2_cataract/cataract_096.png  \n",
            "  inflating: dataset/2_cataract/cataract_097.png  \n",
            "  inflating: dataset/2_cataract/cataract_098.png  \n",
            "  inflating: dataset/2_cataract/cataract_099.png  \n",
            "  inflating: dataset/2_cataract/cataract_100.png  \n",
            "  inflating: dataset/2_glaucoma/Glaucoma_001.png  \n",
            "  inflating: dataset/2_glaucoma/Glaucoma_002.png  \n",
            "  inflating: dataset/2_glaucoma/Glaucoma_003.png  \n",
            "  inflating: dataset/2_glaucoma/Glaucoma_004.png  \n",
            "  inflating: dataset/2_glaucoma/Glaucoma_005.png  \n",
            "  inflating: dataset/2_glaucoma/Glaucoma_006.png  \n",
            "  inflating: dataset/2_glaucoma/Glaucoma_007.png  \n",
            "  inflating: dataset/2_glaucoma/Glaucoma_008.png  \n",
            "  inflating: dataset/2_glaucoma/Glaucoma_009.png  \n",
            "  inflating: dataset/2_glaucoma/Glaucoma_010.png  \n",
            "  inflating: dataset/2_glaucoma/Glaucoma_011.png  \n",
            "  inflating: dataset/2_glaucoma/Glaucoma_012.png  \n",
            "  inflating: dataset/2_glaucoma/Glaucoma_013.png  \n",
            "  inflating: dataset/2_glaucoma/Glaucoma_014.png  \n",
            "  inflating: dataset/2_glaucoma/Glaucoma_015.png  \n",
            "  inflating: dataset/2_glaucoma/Glaucoma_016.png  \n",
            "  inflating: dataset/2_glaucoma/Glaucoma_017.png  \n",
            "  inflating: dataset/2_glaucoma/Glaucoma_018.png  \n",
            "  inflating: dataset/2_glaucoma/Glaucoma_019.png  \n",
            "  inflating: dataset/2_glaucoma/Glaucoma_020.png  \n",
            "  inflating: dataset/2_glaucoma/Glaucoma_021.png  \n",
            "  inflating: dataset/2_glaucoma/Glaucoma_022.png  \n",
            "  inflating: dataset/2_glaucoma/Glaucoma_023.png  \n",
            "  inflating: dataset/2_glaucoma/Glaucoma_024.png  \n",
            "  inflating: dataset/2_glaucoma/Glaucoma_025.png  \n",
            "  inflating: dataset/2_glaucoma/Glaucoma_026.png  \n",
            "  inflating: dataset/2_glaucoma/Glaucoma_027.png  \n",
            "  inflating: dataset/2_glaucoma/Glaucoma_028.png  \n",
            "  inflating: dataset/2_glaucoma/Glaucoma_029.png  \n",
            "  inflating: dataset/2_glaucoma/Glaucoma_030.png  \n",
            "  inflating: dataset/2_glaucoma/Glaucoma_031.png  \n",
            "  inflating: dataset/2_glaucoma/Glaucoma_032.png  \n",
            "  inflating: dataset/2_glaucoma/Glaucoma_033.png  \n",
            "  inflating: dataset/2_glaucoma/Glaucoma_034.png  \n",
            "  inflating: dataset/2_glaucoma/Glaucoma_035.png  \n",
            "  inflating: dataset/2_glaucoma/Glaucoma_036.png  \n",
            "  inflating: dataset/2_glaucoma/Glaucoma_037.png  \n",
            "  inflating: dataset/2_glaucoma/Glaucoma_038.png  \n",
            "  inflating: dataset/2_glaucoma/Glaucoma_039.png  \n",
            "  inflating: dataset/2_glaucoma/Glaucoma_040.png  \n",
            "  inflating: dataset/2_glaucoma/Glaucoma_041.png  \n",
            "  inflating: dataset/2_glaucoma/Glaucoma_042.png  \n",
            "  inflating: dataset/2_glaucoma/Glaucoma_043.png  \n",
            "  inflating: dataset/2_glaucoma/Glaucoma_044.png  \n",
            "  inflating: dataset/2_glaucoma/Glaucoma_045.png  \n",
            "  inflating: dataset/2_glaucoma/Glaucoma_046.png  \n",
            "  inflating: dataset/2_glaucoma/Glaucoma_047.png  \n",
            "  inflating: dataset/2_glaucoma/Glaucoma_048.png  \n",
            "  inflating: dataset/2_glaucoma/Glaucoma_049.png  \n",
            "  inflating: dataset/2_glaucoma/Glaucoma_050.png  \n",
            "  inflating: dataset/2_glaucoma/Glaucoma_051.png  \n",
            "  inflating: dataset/2_glaucoma/Glaucoma_052.png  \n",
            "  inflating: dataset/2_glaucoma/Glaucoma_053.png  \n",
            "  inflating: dataset/2_glaucoma/Glaucoma_054.png  \n",
            "  inflating: dataset/2_glaucoma/Glaucoma_055.png  \n",
            "  inflating: dataset/2_glaucoma/Glaucoma_056.png  \n",
            "  inflating: dataset/2_glaucoma/Glaucoma_057.png  \n",
            "  inflating: dataset/2_glaucoma/Glaucoma_058.png  \n",
            "  inflating: dataset/2_glaucoma/Glaucoma_059.png  \n",
            "  inflating: dataset/2_glaucoma/Glaucoma_060.png  \n",
            "  inflating: dataset/2_glaucoma/Glaucoma_061.png  \n",
            "  inflating: dataset/2_glaucoma/Glaucoma_062.png  \n",
            "  inflating: dataset/2_glaucoma/Glaucoma_063.png  \n",
            "  inflating: dataset/2_glaucoma/Glaucoma_064.png  \n",
            "  inflating: dataset/2_glaucoma/Glaucoma_065.png  \n",
            "  inflating: dataset/2_glaucoma/Glaucoma_066.png  \n",
            "  inflating: dataset/2_glaucoma/Glaucoma_067.png  \n",
            "  inflating: dataset/2_glaucoma/Glaucoma_068.png  \n",
            "  inflating: dataset/2_glaucoma/Glaucoma_069.png  \n",
            "  inflating: dataset/2_glaucoma/Glaucoma_070.png  \n",
            "  inflating: dataset/2_glaucoma/Glaucoma_071.png  \n",
            "  inflating: dataset/2_glaucoma/Glaucoma_072.png  \n",
            "  inflating: dataset/2_glaucoma/Glaucoma_073.png  \n",
            "  inflating: dataset/2_glaucoma/Glaucoma_074.png  \n",
            "  inflating: dataset/2_glaucoma/Glaucoma_075.png  \n",
            "  inflating: dataset/2_glaucoma/Glaucoma_076.png  \n",
            "  inflating: dataset/2_glaucoma/Glaucoma_077.png  \n",
            "  inflating: dataset/2_glaucoma/Glaucoma_078.png  \n",
            "  inflating: dataset/2_glaucoma/Glaucoma_079.png  \n",
            "  inflating: dataset/2_glaucoma/Glaucoma_080.png  \n",
            "  inflating: dataset/2_glaucoma/Glaucoma_081.png  \n",
            "  inflating: dataset/2_glaucoma/Glaucoma_082.png  \n",
            "  inflating: dataset/2_glaucoma/Glaucoma_083.png  \n",
            "  inflating: dataset/2_glaucoma/Glaucoma_084.png  \n",
            "  inflating: dataset/2_glaucoma/Glaucoma_085.png  \n",
            "  inflating: dataset/2_glaucoma/Glaucoma_086.png  \n",
            "  inflating: dataset/2_glaucoma/Glaucoma_087.png  \n",
            "  inflating: dataset/2_glaucoma/Glaucoma_088.png  \n",
            "  inflating: dataset/2_glaucoma/Glaucoma_089.png  \n",
            "  inflating: dataset/2_glaucoma/Glaucoma_090.png  \n",
            "  inflating: dataset/2_glaucoma/Glaucoma_091.png  \n",
            "  inflating: dataset/2_glaucoma/Glaucoma_092.png  \n",
            "  inflating: dataset/2_glaucoma/Glaucoma_093.png  \n",
            "  inflating: dataset/2_glaucoma/Glaucoma_094.png  \n",
            "  inflating: dataset/2_glaucoma/Glaucoma_095.png  \n",
            "  inflating: dataset/2_glaucoma/Glaucoma_096.png  \n",
            "  inflating: dataset/2_glaucoma/Glaucoma_097.png  \n",
            "  inflating: dataset/2_glaucoma/Glaucoma_098.png  \n",
            "  inflating: dataset/2_glaucoma/Glaucoma_099.png  \n",
            "  inflating: dataset/2_glaucoma/Glaucoma_100.png  \n",
            "  inflating: dataset/2_glaucoma/Glaucoma_101.png  \n",
            "  inflating: dataset/3_retina_disease/Retina_001.png  \n",
            "  inflating: dataset/3_retina_disease/Retina_002.png  \n",
            "  inflating: dataset/3_retina_disease/Retina_003.png  \n",
            "  inflating: dataset/3_retina_disease/Retina_004.png  \n",
            "  inflating: dataset/3_retina_disease/Retina_005.png  \n",
            "  inflating: dataset/3_retina_disease/Retina_006.png  \n",
            "  inflating: dataset/3_retina_disease/Retina_007.png  \n",
            "  inflating: dataset/3_retina_disease/Retina_008.png  \n",
            "  inflating: dataset/3_retina_disease/Retina_009.png  \n",
            "  inflating: dataset/3_retina_disease/Retina_010.png  \n",
            "  inflating: dataset/3_retina_disease/Retina_011.png  \n",
            "  inflating: dataset/3_retina_disease/Retina_012.png  \n",
            "  inflating: dataset/3_retina_disease/Retina_013.png  \n",
            "  inflating: dataset/3_retina_disease/Retina_014.png  \n",
            "  inflating: dataset/3_retina_disease/Retina_015.png  \n",
            "  inflating: dataset/3_retina_disease/Retina_016.png  \n",
            "  inflating: dataset/3_retina_disease/Retina_017.png  \n",
            "  inflating: dataset/3_retina_disease/Retina_018.png  \n",
            "  inflating: dataset/3_retina_disease/Retina_019.png  \n",
            "  inflating: dataset/3_retina_disease/Retina_020.png  \n",
            "  inflating: dataset/3_retina_disease/Retina_021.png  \n",
            "  inflating: dataset/3_retina_disease/Retina_022.png  \n",
            "  inflating: dataset/3_retina_disease/Retina_023.png  \n",
            "  inflating: dataset/3_retina_disease/Retina_024.png  \n",
            "  inflating: dataset/3_retina_disease/Retina_025.png  \n",
            "  inflating: dataset/3_retina_disease/Retina_026.png  \n",
            "  inflating: dataset/3_retina_disease/Retina_027.png  \n",
            "  inflating: dataset/3_retina_disease/Retina_028.png  \n",
            "  inflating: dataset/3_retina_disease/Retina_029.png  \n",
            "  inflating: dataset/3_retina_disease/Retina_030.png  \n",
            "  inflating: dataset/3_retina_disease/Retina_031.png  \n",
            "  inflating: dataset/3_retina_disease/Retina_032.png  \n",
            "  inflating: dataset/3_retina_disease/Retina_033.png  \n",
            "  inflating: dataset/3_retina_disease/Retina_034.png  \n",
            "  inflating: dataset/3_retina_disease/Retina_035.png  \n",
            "  inflating: dataset/3_retina_disease/Retina_036.png  \n",
            "  inflating: dataset/3_retina_disease/Retina_037.png  \n",
            "  inflating: dataset/3_retina_disease/Retina_038.png  \n",
            "  inflating: dataset/3_retina_disease/Retina_039.png  \n",
            "  inflating: dataset/3_retina_disease/Retina_040.png  \n",
            "  inflating: dataset/3_retina_disease/Retina_041.png  \n",
            "  inflating: dataset/3_retina_disease/Retina_042.png  \n",
            "  inflating: dataset/3_retina_disease/Retina_043.png  \n",
            "  inflating: dataset/3_retina_disease/Retina_044.png  \n",
            "  inflating: dataset/3_retina_disease/Retina_045.png  \n",
            "  inflating: dataset/3_retina_disease/Retina_046.png  \n",
            "  inflating: dataset/3_retina_disease/Retina_047.png  \n",
            "  inflating: dataset/3_retina_disease/Retina_048.png  \n",
            "  inflating: dataset/3_retina_disease/Retina_049.png  \n",
            "  inflating: dataset/3_retina_disease/Retina_050.png  \n",
            "  inflating: dataset/3_retina_disease/Retina_051.png  \n",
            "  inflating: dataset/3_retina_disease/Retina_052.png  \n",
            "  inflating: dataset/3_retina_disease/Retina_053.png  \n",
            "  inflating: dataset/3_retina_disease/Retina_054.png  \n",
            "  inflating: dataset/3_retina_disease/Retina_055.png  \n",
            "  inflating: dataset/3_retina_disease/Retina_056.png  \n",
            "  inflating: dataset/3_retina_disease/Retina_057.png  \n",
            "  inflating: dataset/3_retina_disease/Retina_058.png  \n",
            "  inflating: dataset/3_retina_disease/Retina_059.png  \n",
            "  inflating: dataset/3_retina_disease/Retina_060.png  \n",
            "  inflating: dataset/3_retina_disease/Retina_061.png  \n",
            "  inflating: dataset/3_retina_disease/Retina_062.png  \n",
            "  inflating: dataset/3_retina_disease/Retina_063.png  \n",
            "  inflating: dataset/3_retina_disease/Retina_064.png  \n",
            "  inflating: dataset/3_retina_disease/Retina_065.png  \n",
            "  inflating: dataset/3_retina_disease/Retina_066.png  \n",
            "  inflating: dataset/3_retina_disease/Retina_067.png  \n",
            "  inflating: dataset/3_retina_disease/Retina_068.png  \n",
            "  inflating: dataset/3_retina_disease/Retina_069.png  \n",
            "  inflating: dataset/3_retina_disease/Retina_070.png  \n",
            "  inflating: dataset/3_retina_disease/Retina_071.png  \n",
            "  inflating: dataset/3_retina_disease/Retina_072.png  \n",
            "  inflating: dataset/3_retina_disease/Retina_073.png  \n",
            "  inflating: dataset/3_retina_disease/Retina_074.png  \n",
            "  inflating: dataset/3_retina_disease/Retina_075.png  \n",
            "  inflating: dataset/3_retina_disease/Retina_076.png  \n",
            "  inflating: dataset/3_retina_disease/Retina_077.png  \n",
            "  inflating: dataset/3_retina_disease/Retina_078.png  \n",
            "  inflating: dataset/3_retina_disease/Retina_079.png  \n",
            "  inflating: dataset/3_retina_disease/Retina_080.png  \n",
            "  inflating: dataset/3_retina_disease/Retina_081.png  \n",
            "  inflating: dataset/3_retina_disease/Retina_082.png  \n",
            "  inflating: dataset/3_retina_disease/Retina_083.png  \n",
            "  inflating: dataset/3_retina_disease/Retina_084.png  \n",
            "  inflating: dataset/3_retina_disease/Retina_085.png  \n",
            "  inflating: dataset/3_retina_disease/Retina_086.png  \n",
            "  inflating: dataset/3_retina_disease/Retina_087.png  \n",
            "  inflating: dataset/3_retina_disease/Retina_088.png  \n",
            "  inflating: dataset/3_retina_disease/Retina_089.png  \n",
            "  inflating: dataset/3_retina_disease/Retina_090.png  \n",
            "  inflating: dataset/3_retina_disease/Retina_091.png  \n",
            "  inflating: dataset/3_retina_disease/Retina_092.png  \n",
            "  inflating: dataset/3_retina_disease/Retina_093.png  \n",
            "  inflating: dataset/3_retina_disease/Retina_094.png  \n",
            "  inflating: dataset/3_retina_disease/Retina_095.png  \n",
            "  inflating: dataset/3_retina_disease/Retina_096.png  \n",
            "  inflating: dataset/3_retina_disease/Retina_097.png  \n",
            "  inflating: dataset/3_retina_disease/Retina_098.png  \n",
            "  inflating: dataset/3_retina_disease/Retina_099.png  \n",
            "  inflating: dataset/3_retina_disease/Retina_100.png  \n",
            "  inflating: repository/yiweichen04-retina_dataset-914b0f4/README.md  \n",
            "  inflating: repository/yiweichen04-retina_dataset-914b0f4/dataset/1_normal/NL_001.png  \n",
            "  inflating: repository/yiweichen04-retina_dataset-914b0f4/dataset/1_normal/NL_002.png  \n",
            "  inflating: repository/yiweichen04-retina_dataset-914b0f4/dataset/1_normal/NL_003.png  \n",
            "  inflating: repository/yiweichen04-retina_dataset-914b0f4/dataset/1_normal/NL_004.png  \n",
            "  inflating: repository/yiweichen04-retina_dataset-914b0f4/dataset/1_normal/NL_005.png  \n",
            "  inflating: repository/yiweichen04-retina_dataset-914b0f4/dataset/1_normal/NL_006.png  \n",
            "  inflating: repository/yiweichen04-retina_dataset-914b0f4/dataset/1_normal/NL_007.png  \n",
            "  inflating: repository/yiweichen04-retina_dataset-914b0f4/dataset/1_normal/NL_008.png  \n",
            "  inflating: repository/yiweichen04-retina_dataset-914b0f4/dataset/1_normal/NL_009.png  \n",
            "  inflating: repository/yiweichen04-retina_dataset-914b0f4/dataset/1_normal/NL_010.png  \n",
            "  inflating: repository/yiweichen04-retina_dataset-914b0f4/dataset/1_normal/NL_011.png  \n",
            "  inflating: repository/yiweichen04-retina_dataset-914b0f4/dataset/1_normal/NL_012.png  \n",
            "  inflating: repository/yiweichen04-retina_dataset-914b0f4/dataset/1_normal/NL_013.png  \n",
            "  inflating: repository/yiweichen04-retina_dataset-914b0f4/dataset/1_normal/NL_014.png  \n",
            "  inflating: repository/yiweichen04-retina_dataset-914b0f4/dataset/1_normal/NL_015.png  \n",
            "  inflating: repository/yiweichen04-retina_dataset-914b0f4/dataset/1_normal/NL_016.png  \n",
            "  inflating: repository/yiweichen04-retina_dataset-914b0f4/dataset/1_normal/NL_017.png  \n",
            "  inflating: repository/yiweichen04-retina_dataset-914b0f4/dataset/1_normal/NL_018.png  \n",
            "  inflating: repository/yiweichen04-retina_dataset-914b0f4/dataset/1_normal/NL_019.png  \n",
            "  inflating: repository/yiweichen04-retina_dataset-914b0f4/dataset/1_normal/NL_020.png  \n",
            "  inflating: repository/yiweichen04-retina_dataset-914b0f4/dataset/1_normal/NL_021.png  \n",
            "  inflating: repository/yiweichen04-retina_dataset-914b0f4/dataset/1_normal/NL_022.png  \n",
            "  inflating: repository/yiweichen04-retina_dataset-914b0f4/dataset/1_normal/NL_023.png  \n",
            "  inflating: repository/yiweichen04-retina_dataset-914b0f4/dataset/1_normal/NL_024.png  \n",
            "  inflating: repository/yiweichen04-retina_dataset-914b0f4/dataset/1_normal/NL_025.png  \n",
            "  inflating: repository/yiweichen04-retina_dataset-914b0f4/dataset/1_normal/NL_026.png  \n",
            "  inflating: repository/yiweichen04-retina_dataset-914b0f4/dataset/1_normal/NL_027.png  \n",
            "  inflating: repository/yiweichen04-retina_dataset-914b0f4/dataset/1_normal/NL_028.png  \n",
            "  inflating: repository/yiweichen04-retina_dataset-914b0f4/dataset/1_normal/NL_029.png  \n",
            "  inflating: repository/yiweichen04-retina_dataset-914b0f4/dataset/1_normal/NL_030.png  \n",
            "  inflating: repository/yiweichen04-retina_dataset-914b0f4/dataset/1_normal/NL_031.png  \n",
            "  inflating: repository/yiweichen04-retina_dataset-914b0f4/dataset/1_normal/NL_032.png  \n",
            "  inflating: repository/yiweichen04-retina_dataset-914b0f4/dataset/1_normal/NL_033.png  \n",
            "  inflating: repository/yiweichen04-retina_dataset-914b0f4/dataset/1_normal/NL_034.png  \n",
            "  inflating: repository/yiweichen04-retina_dataset-914b0f4/dataset/1_normal/NL_035.png  \n",
            "  inflating: repository/yiweichen04-retina_dataset-914b0f4/dataset/1_normal/NL_036.png  \n",
            "  inflating: repository/yiweichen04-retina_dataset-914b0f4/dataset/1_normal/NL_037.png  \n",
            "  inflating: repository/yiweichen04-retina_dataset-914b0f4/dataset/1_normal/NL_038.png  \n",
            "  inflating: repository/yiweichen04-retina_dataset-914b0f4/dataset/1_normal/NL_039.png  \n",
            "  inflating: repository/yiweichen04-retina_dataset-914b0f4/dataset/1_normal/NL_040.png  \n",
            "  inflating: repository/yiweichen04-retina_dataset-914b0f4/dataset/1_normal/NL_041.png  \n",
            "  inflating: repository/yiweichen04-retina_dataset-914b0f4/dataset/1_normal/NL_042.png  \n",
            "  inflating: repository/yiweichen04-retina_dataset-914b0f4/dataset/1_normal/NL_043.png  \n",
            "  inflating: repository/yiweichen04-retina_dataset-914b0f4/dataset/1_normal/NL_044.png  \n",
            "  inflating: repository/yiweichen04-retina_dataset-914b0f4/dataset/1_normal/NL_045.png  \n",
            "  inflating: repository/yiweichen04-retina_dataset-914b0f4/dataset/1_normal/NL_046.png  \n",
            "  inflating: repository/yiweichen04-retina_dataset-914b0f4/dataset/1_normal/NL_047.png  \n",
            "  inflating: repository/yiweichen04-retina_dataset-914b0f4/dataset/1_normal/NL_048.png  \n",
            "  inflating: repository/yiweichen04-retina_dataset-914b0f4/dataset/1_normal/NL_049.png  \n",
            "  inflating: repository/yiweichen04-retina_dataset-914b0f4/dataset/1_normal/NL_050.png  \n",
            "  inflating: repository/yiweichen04-retina_dataset-914b0f4/dataset/1_normal/NL_051.png  \n",
            "  inflating: repository/yiweichen04-retina_dataset-914b0f4/dataset/1_normal/NL_052.png  \n",
            "  inflating: repository/yiweichen04-retina_dataset-914b0f4/dataset/1_normal/NL_053.png  \n",
            "  inflating: repository/yiweichen04-retina_dataset-914b0f4/dataset/1_normal/NL_054.png  \n",
            "  inflating: repository/yiweichen04-retina_dataset-914b0f4/dataset/1_normal/NL_055.png  \n",
            "  inflating: repository/yiweichen04-retina_dataset-914b0f4/dataset/1_normal/NL_056.png  \n",
            "  inflating: repository/yiweichen04-retina_dataset-914b0f4/dataset/1_normal/NL_057.png  \n",
            "  inflating: repository/yiweichen04-retina_dataset-914b0f4/dataset/1_normal/NL_058.png  \n",
            "  inflating: repository/yiweichen04-retina_dataset-914b0f4/dataset/1_normal/NL_059.png  \n",
            "  inflating: repository/yiweichen04-retina_dataset-914b0f4/dataset/1_normal/NL_060.png  \n",
            "  inflating: repository/yiweichen04-retina_dataset-914b0f4/dataset/1_normal/NL_061.png  \n",
            "  inflating: repository/yiweichen04-retina_dataset-914b0f4/dataset/1_normal/NL_062.png  \n",
            "  inflating: repository/yiweichen04-retina_dataset-914b0f4/dataset/1_normal/NL_063.png  \n",
            "  inflating: repository/yiweichen04-retina_dataset-914b0f4/dataset/1_normal/NL_064.png  \n",
            "  inflating: repository/yiweichen04-retina_dataset-914b0f4/dataset/1_normal/NL_065.png  \n",
            "  inflating: repository/yiweichen04-retina_dataset-914b0f4/dataset/1_normal/NL_066.png  \n",
            "  inflating: repository/yiweichen04-retina_dataset-914b0f4/dataset/1_normal/NL_067.png  \n",
            "  inflating: repository/yiweichen04-retina_dataset-914b0f4/dataset/1_normal/NL_068.png  \n",
            "  inflating: repository/yiweichen04-retina_dataset-914b0f4/dataset/1_normal/NL_069.png  \n",
            "  inflating: repository/yiweichen04-retina_dataset-914b0f4/dataset/1_normal/NL_070.png  \n",
            "  inflating: repository/yiweichen04-retina_dataset-914b0f4/dataset/1_normal/NL_071.png  \n",
            "  inflating: repository/yiweichen04-retina_dataset-914b0f4/dataset/1_normal/NL_072.png  \n",
            "  inflating: repository/yiweichen04-retina_dataset-914b0f4/dataset/1_normal/NL_073.png  \n",
            "  inflating: repository/yiweichen04-retina_dataset-914b0f4/dataset/1_normal/NL_074.png  \n",
            "  inflating: repository/yiweichen04-retina_dataset-914b0f4/dataset/1_normal/NL_075.png  \n",
            "  inflating: repository/yiweichen04-retina_dataset-914b0f4/dataset/1_normal/NL_076.png  \n",
            "  inflating: repository/yiweichen04-retina_dataset-914b0f4/dataset/1_normal/NL_077.png  \n",
            "  inflating: repository/yiweichen04-retina_dataset-914b0f4/dataset/1_normal/NL_078.png  \n",
            "  inflating: repository/yiweichen04-retina_dataset-914b0f4/dataset/1_normal/NL_079.png  \n",
            "  inflating: repository/yiweichen04-retina_dataset-914b0f4/dataset/1_normal/NL_080.png  \n",
            "  inflating: repository/yiweichen04-retina_dataset-914b0f4/dataset/1_normal/NL_081.png  \n",
            "  inflating: repository/yiweichen04-retina_dataset-914b0f4/dataset/1_normal/NL_082.png  \n",
            "  inflating: repository/yiweichen04-retina_dataset-914b0f4/dataset/1_normal/NL_083.png  \n",
            "  inflating: repository/yiweichen04-retina_dataset-914b0f4/dataset/1_normal/NL_084.png  \n",
            "  inflating: repository/yiweichen04-retina_dataset-914b0f4/dataset/1_normal/NL_085.png  \n",
            "  inflating: repository/yiweichen04-retina_dataset-914b0f4/dataset/1_normal/NL_086.png  \n",
            "  inflating: repository/yiweichen04-retina_dataset-914b0f4/dataset/1_normal/NL_087.png  \n",
            "  inflating: repository/yiweichen04-retina_dataset-914b0f4/dataset/1_normal/NL_088.png  \n",
            "  inflating: repository/yiweichen04-retina_dataset-914b0f4/dataset/1_normal/NL_089.png  \n",
            "  inflating: repository/yiweichen04-retina_dataset-914b0f4/dataset/1_normal/NL_090.png  \n",
            "  inflating: repository/yiweichen04-retina_dataset-914b0f4/dataset/1_normal/NL_091.png  \n",
            "  inflating: repository/yiweichen04-retina_dataset-914b0f4/dataset/1_normal/NL_092.png  \n",
            "  inflating: repository/yiweichen04-retina_dataset-914b0f4/dataset/1_normal/NL_093.png  \n",
            "  inflating: repository/yiweichen04-retina_dataset-914b0f4/dataset/1_normal/NL_094.png  \n",
            "  inflating: repository/yiweichen04-retina_dataset-914b0f4/dataset/1_normal/NL_095.png  \n",
            "  inflating: repository/yiweichen04-retina_dataset-914b0f4/dataset/1_normal/NL_096.png  \n",
            "  inflating: repository/yiweichen04-retina_dataset-914b0f4/dataset/1_normal/NL_097.png  \n",
            "  inflating: repository/yiweichen04-retina_dataset-914b0f4/dataset/1_normal/NL_098.png  \n",
            "  inflating: repository/yiweichen04-retina_dataset-914b0f4/dataset/1_normal/NL_099.png  \n",
            "  inflating: repository/yiweichen04-retina_dataset-914b0f4/dataset/1_normal/NL_100.png  \n",
            "  inflating: repository/yiweichen04-retina_dataset-914b0f4/dataset/1_normal/NL_101.png  \n",
            "  inflating: repository/yiweichen04-retina_dataset-914b0f4/dataset/1_normal/NL_102.png  \n",
            "  inflating: repository/yiweichen04-retina_dataset-914b0f4/dataset/1_normal/NL_103.png  \n",
            "  inflating: repository/yiweichen04-retina_dataset-914b0f4/dataset/1_normal/NL_104.png  \n",
            "  inflating: repository/yiweichen04-retina_dataset-914b0f4/dataset/1_normal/NL_105.png  \n",
            "  inflating: repository/yiweichen04-retina_dataset-914b0f4/dataset/1_normal/NL_106.png  \n",
            "  inflating: repository/yiweichen04-retina_dataset-914b0f4/dataset/1_normal/NL_107.png  \n",
            "  inflating: repository/yiweichen04-retina_dataset-914b0f4/dataset/1_normal/NL_108.png  \n",
            "  inflating: repository/yiweichen04-retina_dataset-914b0f4/dataset/1_normal/NL_109.png  \n",
            "  inflating: repository/yiweichen04-retina_dataset-914b0f4/dataset/1_normal/NL_110.png  \n",
            "  inflating: repository/yiweichen04-retina_dataset-914b0f4/dataset/1_normal/NL_111.png  \n",
            "  inflating: repository/yiweichen04-retina_dataset-914b0f4/dataset/1_normal/NL_112.png  \n",
            "  inflating: repository/yiweichen04-retina_dataset-914b0f4/dataset/1_normal/NL_113.png  \n",
            "  inflating: repository/yiweichen04-retina_dataset-914b0f4/dataset/1_normal/NL_114.png  \n",
            "  inflating: repository/yiweichen04-retina_dataset-914b0f4/dataset/1_normal/NL_115.png  \n",
            "  inflating: repository/yiweichen04-retina_dataset-914b0f4/dataset/1_normal/NL_116.png  \n",
            "  inflating: repository/yiweichen04-retina_dataset-914b0f4/dataset/1_normal/NL_117.png  \n",
            "  inflating: repository/yiweichen04-retina_dataset-914b0f4/dataset/1_normal/NL_118.png  \n",
            "  inflating: repository/yiweichen04-retina_dataset-914b0f4/dataset/1_normal/NL_119.png  \n",
            "  inflating: repository/yiweichen04-retina_dataset-914b0f4/dataset/1_normal/NL_120.png  \n",
            "  inflating: repository/yiweichen04-retina_dataset-914b0f4/dataset/1_normal/NL_121.png  \n",
            "  inflating: repository/yiweichen04-retina_dataset-914b0f4/dataset/1_normal/NL_122.png  \n",
            "  inflating: repository/yiweichen04-retina_dataset-914b0f4/dataset/1_normal/NL_123.png  \n",
            "  inflating: repository/yiweichen04-retina_dataset-914b0f4/dataset/1_normal/NL_124.png  \n",
            "  inflating: repository/yiweichen04-retina_dataset-914b0f4/dataset/1_normal/NL_125.png  \n",
            "  inflating: repository/yiweichen04-retina_dataset-914b0f4/dataset/1_normal/NL_126.png  \n",
            "  inflating: repository/yiweichen04-retina_dataset-914b0f4/dataset/1_normal/NL_127.png  \n",
            "  inflating: repository/yiweichen04-retina_dataset-914b0f4/dataset/1_normal/NL_128.png  \n",
            "  inflating: repository/yiweichen04-retina_dataset-914b0f4/dataset/1_normal/NL_129.png  \n",
            "  inflating: repository/yiweichen04-retina_dataset-914b0f4/dataset/1_normal/NL_130.png  \n",
            "  inflating: repository/yiweichen04-retina_dataset-914b0f4/dataset/1_normal/NL_131.png  \n",
            "  inflating: repository/yiweichen04-retina_dataset-914b0f4/dataset/1_normal/NL_132.png  \n",
            "  inflating: repository/yiweichen04-retina_dataset-914b0f4/dataset/1_normal/NL_133.png  \n",
            "  inflating: repository/yiweichen04-retina_dataset-914b0f4/dataset/1_normal/NL_134.png  \n",
            "  inflating: repository/yiweichen04-retina_dataset-914b0f4/dataset/1_normal/NL_135.png  \n",
            "  inflating: repository/yiweichen04-retina_dataset-914b0f4/dataset/1_normal/NL_136.png  \n",
            "  inflating: repository/yiweichen04-retina_dataset-914b0f4/dataset/1_normal/NL_137.png  \n",
            "  inflating: repository/yiweichen04-retina_dataset-914b0f4/dataset/1_normal/NL_138.png  \n",
            "  inflating: repository/yiweichen04-retina_dataset-914b0f4/dataset/1_normal/NL_139.png  \n",
            "  inflating: repository/yiweichen04-retina_dataset-914b0f4/dataset/1_normal/NL_140.png  \n",
            "  inflating: repository/yiweichen04-retina_dataset-914b0f4/dataset/1_normal/NL_141.png  \n",
            "  inflating: repository/yiweichen04-retina_dataset-914b0f4/dataset/1_normal/NL_142.png  \n",
            "  inflating: repository/yiweichen04-retina_dataset-914b0f4/dataset/1_normal/NL_143.png  \n",
            "  inflating: repository/yiweichen04-retina_dataset-914b0f4/dataset/1_normal/NL_144.png  \n",
            "  inflating: repository/yiweichen04-retina_dataset-914b0f4/dataset/1_normal/NL_145.png  \n",
            "  inflating: repository/yiweichen04-retina_dataset-914b0f4/dataset/1_normal/NL_146.png  \n",
            "  inflating: repository/yiweichen04-retina_dataset-914b0f4/dataset/1_normal/NL_147.png  \n",
            "  inflating: repository/yiweichen04-retina_dataset-914b0f4/dataset/1_normal/NL_148.png  \n",
            "  inflating: repository/yiweichen04-retina_dataset-914b0f4/dataset/1_normal/NL_149.png  \n",
            "  inflating: repository/yiweichen04-retina_dataset-914b0f4/dataset/1_normal/NL_150.png  \n",
            "  inflating: repository/yiweichen04-retina_dataset-914b0f4/dataset/1_normal/NL_151.png  \n",
            "  inflating: repository/yiweichen04-retina_dataset-914b0f4/dataset/1_normal/NL_152.png  \n",
            "  inflating: repository/yiweichen04-retina_dataset-914b0f4/dataset/1_normal/NL_153.png  \n",
            "  inflating: repository/yiweichen04-retina_dataset-914b0f4/dataset/1_normal/NL_154.png  \n",
            "  inflating: repository/yiweichen04-retina_dataset-914b0f4/dataset/1_normal/NL_155.png  \n",
            "  inflating: repository/yiweichen04-retina_dataset-914b0f4/dataset/1_normal/NL_156.png  \n",
            "  inflating: repository/yiweichen04-retina_dataset-914b0f4/dataset/1_normal/NL_157.png  \n",
            "  inflating: repository/yiweichen04-retina_dataset-914b0f4/dataset/1_normal/NL_158.png  \n",
            "  inflating: repository/yiweichen04-retina_dataset-914b0f4/dataset/1_normal/NL_159.png  \n",
            "  inflating: repository/yiweichen04-retina_dataset-914b0f4/dataset/1_normal/NL_160.png  \n",
            "  inflating: repository/yiweichen04-retina_dataset-914b0f4/dataset/1_normal/NL_161.png  \n",
            "  inflating: repository/yiweichen04-retina_dataset-914b0f4/dataset/1_normal/NL_162.png  \n",
            "  inflating: repository/yiweichen04-retina_dataset-914b0f4/dataset/1_normal/NL_163.png  \n",
            "  inflating: repository/yiweichen04-retina_dataset-914b0f4/dataset/1_normal/NL_164.png  \n",
            "  inflating: repository/yiweichen04-retina_dataset-914b0f4/dataset/1_normal/NL_165.png  \n",
            "  inflating: repository/yiweichen04-retina_dataset-914b0f4/dataset/1_normal/NL_166.png  \n",
            "  inflating: repository/yiweichen04-retina_dataset-914b0f4/dataset/1_normal/NL_167.png  \n",
            "  inflating: repository/yiweichen04-retina_dataset-914b0f4/dataset/1_normal/NL_168.png  \n",
            "  inflating: repository/yiweichen04-retina_dataset-914b0f4/dataset/1_normal/NL_169.png  \n",
            "  inflating: repository/yiweichen04-retina_dataset-914b0f4/dataset/1_normal/NL_170.png  \n",
            "  inflating: repository/yiweichen04-retina_dataset-914b0f4/dataset/1_normal/NL_171.png  \n",
            "  inflating: repository/yiweichen04-retina_dataset-914b0f4/dataset/1_normal/NL_172.png  \n",
            "  inflating: repository/yiweichen04-retina_dataset-914b0f4/dataset/1_normal/NL_173.png  \n",
            "  inflating: repository/yiweichen04-retina_dataset-914b0f4/dataset/1_normal/NL_174.png  \n",
            "  inflating: repository/yiweichen04-retina_dataset-914b0f4/dataset/1_normal/NL_175.png  \n",
            "  inflating: repository/yiweichen04-retina_dataset-914b0f4/dataset/1_normal/NL_176.png  \n",
            "  inflating: repository/yiweichen04-retina_dataset-914b0f4/dataset/1_normal/NL_177.png  \n",
            "  inflating: repository/yiweichen04-retina_dataset-914b0f4/dataset/1_normal/NL_178.png  \n",
            "  inflating: repository/yiweichen04-retina_dataset-914b0f4/dataset/1_normal/NL_179.png  \n",
            "  inflating: repository/yiweichen04-retina_dataset-914b0f4/dataset/1_normal/NL_180.png  \n",
            "  inflating: repository/yiweichen04-retina_dataset-914b0f4/dataset/1_normal/NL_181.png  \n",
            "  inflating: repository/yiweichen04-retina_dataset-914b0f4/dataset/1_normal/NL_182.png  \n",
            "  inflating: repository/yiweichen04-retina_dataset-914b0f4/dataset/1_normal/NL_183.png  \n",
            "  inflating: repository/yiweichen04-retina_dataset-914b0f4/dataset/1_normal/NL_184.png  \n",
            "  inflating: repository/yiweichen04-retina_dataset-914b0f4/dataset/1_normal/NL_185.png  \n",
            "  inflating: repository/yiweichen04-retina_dataset-914b0f4/dataset/1_normal/NL_186.png  \n",
            "  inflating: repository/yiweichen04-retina_dataset-914b0f4/dataset/1_normal/NL_187.png  \n",
            "  inflating: repository/yiweichen04-retina_dataset-914b0f4/dataset/1_normal/NL_188.png  \n",
            "  inflating: repository/yiweichen04-retina_dataset-914b0f4/dataset/1_normal/NL_189.png  \n",
            "  inflating: repository/yiweichen04-retina_dataset-914b0f4/dataset/1_normal/NL_190.png  \n",
            "  inflating: repository/yiweichen04-retina_dataset-914b0f4/dataset/1_normal/NL_191.png  \n",
            "  inflating: repository/yiweichen04-retina_dataset-914b0f4/dataset/1_normal/NL_192.png  \n",
            "  inflating: repository/yiweichen04-retina_dataset-914b0f4/dataset/1_normal/NL_193.png  \n",
            "  inflating: repository/yiweichen04-retina_dataset-914b0f4/dataset/1_normal/NL_194.png  \n",
            "  inflating: repository/yiweichen04-retina_dataset-914b0f4/dataset/1_normal/NL_195.png  \n",
            "  inflating: repository/yiweichen04-retina_dataset-914b0f4/dataset/1_normal/NL_196.png  \n",
            "  inflating: repository/yiweichen04-retina_dataset-914b0f4/dataset/1_normal/NL_197.png  \n",
            "  inflating: repository/yiweichen04-retina_dataset-914b0f4/dataset/1_normal/NL_198.png  \n",
            "  inflating: repository/yiweichen04-retina_dataset-914b0f4/dataset/1_normal/NL_199.png  \n",
            "  inflating: repository/yiweichen04-retina_dataset-914b0f4/dataset/1_normal/NL_200.png  \n",
            "  inflating: repository/yiweichen04-retina_dataset-914b0f4/dataset/1_normal/NL_201.png  \n",
            "  inflating: repository/yiweichen04-retina_dataset-914b0f4/dataset/1_normal/NL_202.png  \n",
            "  inflating: repository/yiweichen04-retina_dataset-914b0f4/dataset/1_normal/NL_203.png  \n",
            "  inflating: repository/yiweichen04-retina_dataset-914b0f4/dataset/1_normal/NL_204.png  \n",
            "  inflating: repository/yiweichen04-retina_dataset-914b0f4/dataset/1_normal/NL_205.png  \n",
            "  inflating: repository/yiweichen04-retina_dataset-914b0f4/dataset/1_normal/NL_206.png  \n",
            "  inflating: repository/yiweichen04-retina_dataset-914b0f4/dataset/1_normal/NL_207.png  \n",
            "  inflating: repository/yiweichen04-retina_dataset-914b0f4/dataset/1_normal/NL_208.png  \n",
            "  inflating: repository/yiweichen04-retina_dataset-914b0f4/dataset/1_normal/NL_209.png  \n",
            "  inflating: repository/yiweichen04-retina_dataset-914b0f4/dataset/1_normal/NL_210.png  \n",
            "  inflating: repository/yiweichen04-retina_dataset-914b0f4/dataset/1_normal/NL_211.png  \n",
            "  inflating: repository/yiweichen04-retina_dataset-914b0f4/dataset/1_normal/NL_212.png  \n",
            "  inflating: repository/yiweichen04-retina_dataset-914b0f4/dataset/1_normal/NL_213.png  \n",
            "  inflating: repository/yiweichen04-retina_dataset-914b0f4/dataset/1_normal/NL_214.png  \n",
            "  inflating: repository/yiweichen04-retina_dataset-914b0f4/dataset/1_normal/NL_215.png  \n",
            "  inflating: repository/yiweichen04-retina_dataset-914b0f4/dataset/1_normal/NL_216.png  \n",
            "  inflating: repository/yiweichen04-retina_dataset-914b0f4/dataset/1_normal/NL_217.png  \n",
            "  inflating: repository/yiweichen04-retina_dataset-914b0f4/dataset/1_normal/NL_218.png  \n",
            "  inflating: repository/yiweichen04-retina_dataset-914b0f4/dataset/1_normal/NL_219.png  \n",
            "  inflating: repository/yiweichen04-retina_dataset-914b0f4/dataset/1_normal/NL_220.png  \n",
            "  inflating: repository/yiweichen04-retina_dataset-914b0f4/dataset/1_normal/NL_221.png  \n",
            "  inflating: repository/yiweichen04-retina_dataset-914b0f4/dataset/1_normal/NL_222.png  \n",
            "  inflating: repository/yiweichen04-retina_dataset-914b0f4/dataset/1_normal/NL_223.png  \n",
            "  inflating: repository/yiweichen04-retina_dataset-914b0f4/dataset/1_normal/NL_224.png  \n",
            "  inflating: repository/yiweichen04-retina_dataset-914b0f4/dataset/1_normal/NL_225.png  \n",
            "  inflating: repository/yiweichen04-retina_dataset-914b0f4/dataset/1_normal/NL_226.png  \n",
            "  inflating: repository/yiweichen04-retina_dataset-914b0f4/dataset/1_normal/NL_227.png  \n",
            "  inflating: repository/yiweichen04-retina_dataset-914b0f4/dataset/1_normal/NL_228.png  \n",
            "  inflating: repository/yiweichen04-retina_dataset-914b0f4/dataset/1_normal/NL_229.png  \n",
            "  inflating: repository/yiweichen04-retina_dataset-914b0f4/dataset/1_normal/NL_230.png  \n",
            "  inflating: repository/yiweichen04-retina_dataset-914b0f4/dataset/1_normal/NL_231.png  \n",
            "  inflating: repository/yiweichen04-retina_dataset-914b0f4/dataset/1_normal/NL_232.png  \n",
            "  inflating: repository/yiweichen04-retina_dataset-914b0f4/dataset/1_normal/NL_233.png  \n",
            "  inflating: repository/yiweichen04-retina_dataset-914b0f4/dataset/1_normal/NL_234.png  \n",
            "  inflating: repository/yiweichen04-retina_dataset-914b0f4/dataset/1_normal/NL_235.png  \n",
            "  inflating: repository/yiweichen04-retina_dataset-914b0f4/dataset/1_normal/NL_236.png  \n",
            "  inflating: repository/yiweichen04-retina_dataset-914b0f4/dataset/1_normal/NL_237.png  \n",
            "  inflating: repository/yiweichen04-retina_dataset-914b0f4/dataset/1_normal/NL_238.png  \n",
            "  inflating: repository/yiweichen04-retina_dataset-914b0f4/dataset/1_normal/NL_239.png  \n",
            "  inflating: repository/yiweichen04-retina_dataset-914b0f4/dataset/1_normal/NL_240.png  \n",
            "  inflating: repository/yiweichen04-retina_dataset-914b0f4/dataset/1_normal/NL_241.png  \n",
            "  inflating: repository/yiweichen04-retina_dataset-914b0f4/dataset/1_normal/NL_242.png  \n",
            "  inflating: repository/yiweichen04-retina_dataset-914b0f4/dataset/1_normal/NL_243.png  \n",
            "  inflating: repository/yiweichen04-retina_dataset-914b0f4/dataset/1_normal/NL_244.png  \n",
            "  inflating: repository/yiweichen04-retina_dataset-914b0f4/dataset/1_normal/NL_245.png  \n",
            "  inflating: repository/yiweichen04-retina_dataset-914b0f4/dataset/1_normal/NL_246.png  \n",
            "  inflating: repository/yiweichen04-retina_dataset-914b0f4/dataset/1_normal/NL_247.png  \n",
            "  inflating: repository/yiweichen04-retina_dataset-914b0f4/dataset/1_normal/NL_248.png  \n",
            "  inflating: repository/yiweichen04-retina_dataset-914b0f4/dataset/1_normal/NL_249.png  \n",
            "  inflating: repository/yiweichen04-retina_dataset-914b0f4/dataset/1_normal/NL_250.png  \n",
            "  inflating: repository/yiweichen04-retina_dataset-914b0f4/dataset/1_normal/NL_251.png  \n",
            "  inflating: repository/yiweichen04-retina_dataset-914b0f4/dataset/1_normal/NL_252.png  \n",
            "  inflating: repository/yiweichen04-retina_dataset-914b0f4/dataset/1_normal/NL_253.png  \n",
            "  inflating: repository/yiweichen04-retina_dataset-914b0f4/dataset/1_normal/NL_254.png  \n",
            "  inflating: repository/yiweichen04-retina_dataset-914b0f4/dataset/1_normal/NL_255.png  \n",
            "  inflating: repository/yiweichen04-retina_dataset-914b0f4/dataset/1_normal/NL_256.png  \n",
            "  inflating: repository/yiweichen04-retina_dataset-914b0f4/dataset/1_normal/NL_257.png  \n",
            "  inflating: repository/yiweichen04-retina_dataset-914b0f4/dataset/1_normal/NL_258.png  \n",
            "  inflating: repository/yiweichen04-retina_dataset-914b0f4/dataset/1_normal/NL_259.png  \n",
            "  inflating: repository/yiweichen04-retina_dataset-914b0f4/dataset/1_normal/NL_260.png  \n",
            "  inflating: repository/yiweichen04-retina_dataset-914b0f4/dataset/1_normal/NL_261.png  \n",
            "  inflating: repository/yiweichen04-retina_dataset-914b0f4/dataset/1_normal/NL_262.png  \n",
            "  inflating: repository/yiweichen04-retina_dataset-914b0f4/dataset/1_normal/NL_263.png  \n",
            "  inflating: repository/yiweichen04-retina_dataset-914b0f4/dataset/1_normal/NL_264.png  \n",
            "  inflating: repository/yiweichen04-retina_dataset-914b0f4/dataset/1_normal/NL_265.png  \n",
            "  inflating: repository/yiweichen04-retina_dataset-914b0f4/dataset/1_normal/NL_266.png  \n",
            "  inflating: repository/yiweichen04-retina_dataset-914b0f4/dataset/1_normal/NL_267.png  \n",
            "  inflating: repository/yiweichen04-retina_dataset-914b0f4/dataset/1_normal/NL_268.png  \n",
            "  inflating: repository/yiweichen04-retina_dataset-914b0f4/dataset/1_normal/NL_269.png  \n",
            "  inflating: repository/yiweichen04-retina_dataset-914b0f4/dataset/1_normal/NL_270.png  \n",
            "  inflating: repository/yiweichen04-retina_dataset-914b0f4/dataset/1_normal/NL_271.png  \n",
            "  inflating: repository/yiweichen04-retina_dataset-914b0f4/dataset/1_normal/NL_272.png  \n",
            "  inflating: repository/yiweichen04-retina_dataset-914b0f4/dataset/1_normal/NL_273.png  \n",
            "  inflating: repository/yiweichen04-retina_dataset-914b0f4/dataset/1_normal/NL_274.png  \n",
            "  inflating: repository/yiweichen04-retina_dataset-914b0f4/dataset/1_normal/NL_275.png  \n",
            "  inflating: repository/yiweichen04-retina_dataset-914b0f4/dataset/1_normal/NL_276.png  \n",
            "  inflating: repository/yiweichen04-retina_dataset-914b0f4/dataset/1_normal/NL_277.png  \n",
            "  inflating: repository/yiweichen04-retina_dataset-914b0f4/dataset/1_normal/NL_278.png  \n",
            "  inflating: repository/yiweichen04-retina_dataset-914b0f4/dataset/1_normal/NL_279.png  \n",
            "  inflating: repository/yiweichen04-retina_dataset-914b0f4/dataset/1_normal/NL_280.png  \n",
            "  inflating: repository/yiweichen04-retina_dataset-914b0f4/dataset/1_normal/NL_281.png  \n",
            "  inflating: repository/yiweichen04-retina_dataset-914b0f4/dataset/1_normal/NL_282.png  \n",
            "  inflating: repository/yiweichen04-retina_dataset-914b0f4/dataset/1_normal/NL_283.png  \n",
            "  inflating: repository/yiweichen04-retina_dataset-914b0f4/dataset/1_normal/NL_284.png  \n",
            "  inflating: repository/yiweichen04-retina_dataset-914b0f4/dataset/1_normal/NL_285.png  \n",
            "  inflating: repository/yiweichen04-retina_dataset-914b0f4/dataset/1_normal/NL_286.png  \n",
            "  inflating: repository/yiweichen04-retina_dataset-914b0f4/dataset/1_normal/NL_287.png  \n",
            "  inflating: repository/yiweichen04-retina_dataset-914b0f4/dataset/1_normal/NL_288.png  \n",
            "  inflating: repository/yiweichen04-retina_dataset-914b0f4/dataset/1_normal/NL_289.png  \n",
            "  inflating: repository/yiweichen04-retina_dataset-914b0f4/dataset/1_normal/NL_290.png  \n",
            "  inflating: repository/yiweichen04-retina_dataset-914b0f4/dataset/1_normal/NL_291.png  \n",
            "  inflating: repository/yiweichen04-retina_dataset-914b0f4/dataset/1_normal/NL_292.png  \n",
            "  inflating: repository/yiweichen04-retina_dataset-914b0f4/dataset/1_normal/NL_293.png  \n",
            "  inflating: repository/yiweichen04-retina_dataset-914b0f4/dataset/1_normal/NL_294.png  \n",
            "  inflating: repository/yiweichen04-retina_dataset-914b0f4/dataset/1_normal/NL_295.png  \n",
            "  inflating: repository/yiweichen04-retina_dataset-914b0f4/dataset/1_normal/NL_296.png  \n",
            "  inflating: repository/yiweichen04-retina_dataset-914b0f4/dataset/1_normal/NL_297.png  \n",
            "  inflating: repository/yiweichen04-retina_dataset-914b0f4/dataset/1_normal/NL_298.png  \n",
            "  inflating: repository/yiweichen04-retina_dataset-914b0f4/dataset/1_normal/NL_299.png  \n",
            "  inflating: repository/yiweichen04-retina_dataset-914b0f4/dataset/1_normal/NL_300.png  \n",
            "  inflating: repository/yiweichen04-retina_dataset-914b0f4/dataset/2_cataract/cataract_001.png  \n",
            "  inflating: repository/yiweichen04-retina_dataset-914b0f4/dataset/2_cataract/cataract_002.png  \n",
            "  inflating: repository/yiweichen04-retina_dataset-914b0f4/dataset/2_cataract/cataract_003.png  \n",
            "  inflating: repository/yiweichen04-retina_dataset-914b0f4/dataset/2_cataract/cataract_004.png  \n",
            "  inflating: repository/yiweichen04-retina_dataset-914b0f4/dataset/2_cataract/cataract_005.png  \n",
            "  inflating: repository/yiweichen04-retina_dataset-914b0f4/dataset/2_cataract/cataract_006.png  \n",
            "  inflating: repository/yiweichen04-retina_dataset-914b0f4/dataset/2_cataract/cataract_007.png  \n",
            "  inflating: repository/yiweichen04-retina_dataset-914b0f4/dataset/2_cataract/cataract_008.png  \n",
            "  inflating: repository/yiweichen04-retina_dataset-914b0f4/dataset/2_cataract/cataract_009.png  \n",
            "  inflating: repository/yiweichen04-retina_dataset-914b0f4/dataset/2_cataract/cataract_010.png  \n",
            "  inflating: repository/yiweichen04-retina_dataset-914b0f4/dataset/2_cataract/cataract_011.png  \n",
            "  inflating: repository/yiweichen04-retina_dataset-914b0f4/dataset/2_cataract/cataract_012.png  \n",
            "  inflating: repository/yiweichen04-retina_dataset-914b0f4/dataset/2_cataract/cataract_013.png  \n",
            "  inflating: repository/yiweichen04-retina_dataset-914b0f4/dataset/2_cataract/cataract_014.png  \n",
            "  inflating: repository/yiweichen04-retina_dataset-914b0f4/dataset/2_cataract/cataract_015.png  \n",
            "  inflating: repository/yiweichen04-retina_dataset-914b0f4/dataset/2_cataract/cataract_016.png  \n",
            "  inflating: repository/yiweichen04-retina_dataset-914b0f4/dataset/2_cataract/cataract_017.png  \n",
            "  inflating: repository/yiweichen04-retina_dataset-914b0f4/dataset/2_cataract/cataract_018.png  \n",
            "  inflating: repository/yiweichen04-retina_dataset-914b0f4/dataset/2_cataract/cataract_019.png  \n",
            "  inflating: repository/yiweichen04-retina_dataset-914b0f4/dataset/2_cataract/cataract_020.png  \n",
            "  inflating: repository/yiweichen04-retina_dataset-914b0f4/dataset/2_cataract/cataract_021.png  \n",
            "  inflating: repository/yiweichen04-retina_dataset-914b0f4/dataset/2_cataract/cataract_022.png  \n",
            "  inflating: repository/yiweichen04-retina_dataset-914b0f4/dataset/2_cataract/cataract_023.png  \n",
            "  inflating: repository/yiweichen04-retina_dataset-914b0f4/dataset/2_cataract/cataract_024.png  \n",
            "  inflating: repository/yiweichen04-retina_dataset-914b0f4/dataset/2_cataract/cataract_025.png  \n",
            "  inflating: repository/yiweichen04-retina_dataset-914b0f4/dataset/2_cataract/cataract_026.png  \n",
            "  inflating: repository/yiweichen04-retina_dataset-914b0f4/dataset/2_cataract/cataract_027.png  \n",
            "  inflating: repository/yiweichen04-retina_dataset-914b0f4/dataset/2_cataract/cataract_028.png  \n",
            "  inflating: repository/yiweichen04-retina_dataset-914b0f4/dataset/2_cataract/cataract_029.png  \n",
            "  inflating: repository/yiweichen04-retina_dataset-914b0f4/dataset/2_cataract/cataract_030.png  \n",
            "  inflating: repository/yiweichen04-retina_dataset-914b0f4/dataset/2_cataract/cataract_031.png  \n",
            "  inflating: repository/yiweichen04-retina_dataset-914b0f4/dataset/2_cataract/cataract_032.png  \n",
            "  inflating: repository/yiweichen04-retina_dataset-914b0f4/dataset/2_cataract/cataract_033.png  \n",
            "  inflating: repository/yiweichen04-retina_dataset-914b0f4/dataset/2_cataract/cataract_034.png  \n",
            "  inflating: repository/yiweichen04-retina_dataset-914b0f4/dataset/2_cataract/cataract_035.png  \n",
            "  inflating: repository/yiweichen04-retina_dataset-914b0f4/dataset/2_cataract/cataract_036.png  \n",
            "  inflating: repository/yiweichen04-retina_dataset-914b0f4/dataset/2_cataract/cataract_037.png  \n",
            "  inflating: repository/yiweichen04-retina_dataset-914b0f4/dataset/2_cataract/cataract_038.png  \n",
            "  inflating: repository/yiweichen04-retina_dataset-914b0f4/dataset/2_cataract/cataract_039.png  \n",
            "  inflating: repository/yiweichen04-retina_dataset-914b0f4/dataset/2_cataract/cataract_040.png  \n",
            "  inflating: repository/yiweichen04-retina_dataset-914b0f4/dataset/2_cataract/cataract_041.png  \n",
            "  inflating: repository/yiweichen04-retina_dataset-914b0f4/dataset/2_cataract/cataract_042.png  \n",
            "  inflating: repository/yiweichen04-retina_dataset-914b0f4/dataset/2_cataract/cataract_043.png  \n",
            "  inflating: repository/yiweichen04-retina_dataset-914b0f4/dataset/2_cataract/cataract_044.png  \n",
            "  inflating: repository/yiweichen04-retina_dataset-914b0f4/dataset/2_cataract/cataract_045.png  \n",
            "  inflating: repository/yiweichen04-retina_dataset-914b0f4/dataset/2_cataract/cataract_046.png  \n",
            "  inflating: repository/yiweichen04-retina_dataset-914b0f4/dataset/2_cataract/cataract_047.png  \n",
            "  inflating: repository/yiweichen04-retina_dataset-914b0f4/dataset/2_cataract/cataract_048.png  \n",
            "  inflating: repository/yiweichen04-retina_dataset-914b0f4/dataset/2_cataract/cataract_049.png  \n",
            "  inflating: repository/yiweichen04-retina_dataset-914b0f4/dataset/2_cataract/cataract_050.png  \n",
            "  inflating: repository/yiweichen04-retina_dataset-914b0f4/dataset/2_cataract/cataract_051.png  \n",
            "  inflating: repository/yiweichen04-retina_dataset-914b0f4/dataset/2_cataract/cataract_052.png  \n",
            "  inflating: repository/yiweichen04-retina_dataset-914b0f4/dataset/2_cataract/cataract_053.png  \n",
            "  inflating: repository/yiweichen04-retina_dataset-914b0f4/dataset/2_cataract/cataract_054.png  \n",
            "  inflating: repository/yiweichen04-retina_dataset-914b0f4/dataset/2_cataract/cataract_055.png  \n",
            "  inflating: repository/yiweichen04-retina_dataset-914b0f4/dataset/2_cataract/cataract_056.png  \n",
            "  inflating: repository/yiweichen04-retina_dataset-914b0f4/dataset/2_cataract/cataract_057.png  \n",
            "  inflating: repository/yiweichen04-retina_dataset-914b0f4/dataset/2_cataract/cataract_058.png  \n",
            "  inflating: repository/yiweichen04-retina_dataset-914b0f4/dataset/2_cataract/cataract_059.png  \n",
            "  inflating: repository/yiweichen04-retina_dataset-914b0f4/dataset/2_cataract/cataract_060.png  \n",
            "  inflating: repository/yiweichen04-retina_dataset-914b0f4/dataset/2_cataract/cataract_061.png  \n",
            "  inflating: repository/yiweichen04-retina_dataset-914b0f4/dataset/2_cataract/cataract_062.png  \n",
            "  inflating: repository/yiweichen04-retina_dataset-914b0f4/dataset/2_cataract/cataract_063.png  \n",
            "  inflating: repository/yiweichen04-retina_dataset-914b0f4/dataset/2_cataract/cataract_064.png  \n",
            "  inflating: repository/yiweichen04-retina_dataset-914b0f4/dataset/2_cataract/cataract_065.png  \n",
            "  inflating: repository/yiweichen04-retina_dataset-914b0f4/dataset/2_cataract/cataract_066.png  \n",
            "  inflating: repository/yiweichen04-retina_dataset-914b0f4/dataset/2_cataract/cataract_067.png  \n",
            "  inflating: repository/yiweichen04-retina_dataset-914b0f4/dataset/2_cataract/cataract_068.png  \n",
            "  inflating: repository/yiweichen04-retina_dataset-914b0f4/dataset/2_cataract/cataract_069.png  \n",
            "  inflating: repository/yiweichen04-retina_dataset-914b0f4/dataset/2_cataract/cataract_070.png  \n",
            "  inflating: repository/yiweichen04-retina_dataset-914b0f4/dataset/2_cataract/cataract_071.png  \n",
            "  inflating: repository/yiweichen04-retina_dataset-914b0f4/dataset/2_cataract/cataract_072.png  \n",
            "  inflating: repository/yiweichen04-retina_dataset-914b0f4/dataset/2_cataract/cataract_073.png  \n",
            "  inflating: repository/yiweichen04-retina_dataset-914b0f4/dataset/2_cataract/cataract_074.png  \n",
            "  inflating: repository/yiweichen04-retina_dataset-914b0f4/dataset/2_cataract/cataract_075.png  \n",
            "  inflating: repository/yiweichen04-retina_dataset-914b0f4/dataset/2_cataract/cataract_076.png  \n",
            "  inflating: repository/yiweichen04-retina_dataset-914b0f4/dataset/2_cataract/cataract_077.png  \n",
            "  inflating: repository/yiweichen04-retina_dataset-914b0f4/dataset/2_cataract/cataract_078.png  \n",
            "  inflating: repository/yiweichen04-retina_dataset-914b0f4/dataset/2_cataract/cataract_079.png  \n",
            "  inflating: repository/yiweichen04-retina_dataset-914b0f4/dataset/2_cataract/cataract_080.png  \n",
            "  inflating: repository/yiweichen04-retina_dataset-914b0f4/dataset/2_cataract/cataract_081.png  \n",
            "  inflating: repository/yiweichen04-retina_dataset-914b0f4/dataset/2_cataract/cataract_082.png  \n",
            "  inflating: repository/yiweichen04-retina_dataset-914b0f4/dataset/2_cataract/cataract_083.png  \n",
            "  inflating: repository/yiweichen04-retina_dataset-914b0f4/dataset/2_cataract/cataract_084.png  \n",
            "  inflating: repository/yiweichen04-retina_dataset-914b0f4/dataset/2_cataract/cataract_085.png  \n",
            "  inflating: repository/yiweichen04-retina_dataset-914b0f4/dataset/2_cataract/cataract_086.png  \n",
            "  inflating: repository/yiweichen04-retina_dataset-914b0f4/dataset/2_cataract/cataract_087.png  \n",
            "  inflating: repository/yiweichen04-retina_dataset-914b0f4/dataset/2_cataract/cataract_088.png  \n",
            "  inflating: repository/yiweichen04-retina_dataset-914b0f4/dataset/2_cataract/cataract_089.png  \n",
            "  inflating: repository/yiweichen04-retina_dataset-914b0f4/dataset/2_cataract/cataract_090.png  \n",
            "  inflating: repository/yiweichen04-retina_dataset-914b0f4/dataset/2_cataract/cataract_091.png  \n",
            "  inflating: repository/yiweichen04-retina_dataset-914b0f4/dataset/2_cataract/cataract_092.png  \n",
            "  inflating: repository/yiweichen04-retina_dataset-914b0f4/dataset/2_cataract/cataract_093.png  \n",
            "  inflating: repository/yiweichen04-retina_dataset-914b0f4/dataset/2_cataract/cataract_094.png  \n",
            "  inflating: repository/yiweichen04-retina_dataset-914b0f4/dataset/2_cataract/cataract_095.png  \n",
            "  inflating: repository/yiweichen04-retina_dataset-914b0f4/dataset/2_cataract/cataract_096.png  \n",
            "  inflating: repository/yiweichen04-retina_dataset-914b0f4/dataset/2_cataract/cataract_097.png  \n",
            "  inflating: repository/yiweichen04-retina_dataset-914b0f4/dataset/2_cataract/cataract_098.png  \n",
            "  inflating: repository/yiweichen04-retina_dataset-914b0f4/dataset/2_cataract/cataract_099.png  \n",
            "  inflating: repository/yiweichen04-retina_dataset-914b0f4/dataset/2_cataract/cataract_100.png  \n",
            "  inflating: repository/yiweichen04-retina_dataset-914b0f4/dataset/2_glaucoma/Glaucoma_001.png  \n",
            "  inflating: repository/yiweichen04-retina_dataset-914b0f4/dataset/2_glaucoma/Glaucoma_002.png  \n",
            "  inflating: repository/yiweichen04-retina_dataset-914b0f4/dataset/2_glaucoma/Glaucoma_003.png  \n",
            "  inflating: repository/yiweichen04-retina_dataset-914b0f4/dataset/2_glaucoma/Glaucoma_004.png  \n",
            "  inflating: repository/yiweichen04-retina_dataset-914b0f4/dataset/2_glaucoma/Glaucoma_005.png  \n",
            "  inflating: repository/yiweichen04-retina_dataset-914b0f4/dataset/2_glaucoma/Glaucoma_006.png  \n",
            "  inflating: repository/yiweichen04-retina_dataset-914b0f4/dataset/2_glaucoma/Glaucoma_007.png  \n",
            "  inflating: repository/yiweichen04-retina_dataset-914b0f4/dataset/2_glaucoma/Glaucoma_008.png  \n",
            "  inflating: repository/yiweichen04-retina_dataset-914b0f4/dataset/2_glaucoma/Glaucoma_009.png  \n",
            "  inflating: repository/yiweichen04-retina_dataset-914b0f4/dataset/2_glaucoma/Glaucoma_010.png  \n",
            "  inflating: repository/yiweichen04-retina_dataset-914b0f4/dataset/2_glaucoma/Glaucoma_011.png  \n",
            "  inflating: repository/yiweichen04-retina_dataset-914b0f4/dataset/2_glaucoma/Glaucoma_012.png  \n",
            "  inflating: repository/yiweichen04-retina_dataset-914b0f4/dataset/2_glaucoma/Glaucoma_013.png  \n",
            "  inflating: repository/yiweichen04-retina_dataset-914b0f4/dataset/2_glaucoma/Glaucoma_014.png  \n",
            "  inflating: repository/yiweichen04-retina_dataset-914b0f4/dataset/2_glaucoma/Glaucoma_015.png  \n",
            "  inflating: repository/yiweichen04-retina_dataset-914b0f4/dataset/2_glaucoma/Glaucoma_016.png  \n",
            "  inflating: repository/yiweichen04-retina_dataset-914b0f4/dataset/2_glaucoma/Glaucoma_017.png  \n",
            "  inflating: repository/yiweichen04-retina_dataset-914b0f4/dataset/2_glaucoma/Glaucoma_018.png  \n",
            "  inflating: repository/yiweichen04-retina_dataset-914b0f4/dataset/2_glaucoma/Glaucoma_019.png  \n",
            "  inflating: repository/yiweichen04-retina_dataset-914b0f4/dataset/2_glaucoma/Glaucoma_020.png  \n",
            "  inflating: repository/yiweichen04-retina_dataset-914b0f4/dataset/2_glaucoma/Glaucoma_021.png  \n",
            "  inflating: repository/yiweichen04-retina_dataset-914b0f4/dataset/2_glaucoma/Glaucoma_022.png  \n",
            "  inflating: repository/yiweichen04-retina_dataset-914b0f4/dataset/2_glaucoma/Glaucoma_023.png  \n",
            "  inflating: repository/yiweichen04-retina_dataset-914b0f4/dataset/2_glaucoma/Glaucoma_024.png  \n",
            "  inflating: repository/yiweichen04-retina_dataset-914b0f4/dataset/2_glaucoma/Glaucoma_025.png  \n",
            "  inflating: repository/yiweichen04-retina_dataset-914b0f4/dataset/2_glaucoma/Glaucoma_026.png  \n",
            "  inflating: repository/yiweichen04-retina_dataset-914b0f4/dataset/2_glaucoma/Glaucoma_027.png  \n",
            "  inflating: repository/yiweichen04-retina_dataset-914b0f4/dataset/2_glaucoma/Glaucoma_028.png  \n",
            "  inflating: repository/yiweichen04-retina_dataset-914b0f4/dataset/2_glaucoma/Glaucoma_029.png  \n",
            "  inflating: repository/yiweichen04-retina_dataset-914b0f4/dataset/2_glaucoma/Glaucoma_030.png  \n",
            "  inflating: repository/yiweichen04-retina_dataset-914b0f4/dataset/2_glaucoma/Glaucoma_031.png  \n",
            "  inflating: repository/yiweichen04-retina_dataset-914b0f4/dataset/2_glaucoma/Glaucoma_032.png  \n",
            "  inflating: repository/yiweichen04-retina_dataset-914b0f4/dataset/2_glaucoma/Glaucoma_033.png  \n",
            "  inflating: repository/yiweichen04-retina_dataset-914b0f4/dataset/2_glaucoma/Glaucoma_034.png  \n",
            "  inflating: repository/yiweichen04-retina_dataset-914b0f4/dataset/2_glaucoma/Glaucoma_035.png  \n",
            "  inflating: repository/yiweichen04-retina_dataset-914b0f4/dataset/2_glaucoma/Glaucoma_036.png  \n",
            "  inflating: repository/yiweichen04-retina_dataset-914b0f4/dataset/2_glaucoma/Glaucoma_037.png  \n",
            "  inflating: repository/yiweichen04-retina_dataset-914b0f4/dataset/2_glaucoma/Glaucoma_038.png  \n",
            "  inflating: repository/yiweichen04-retina_dataset-914b0f4/dataset/2_glaucoma/Glaucoma_039.png  \n",
            "  inflating: repository/yiweichen04-retina_dataset-914b0f4/dataset/2_glaucoma/Glaucoma_040.png  \n",
            "  inflating: repository/yiweichen04-retina_dataset-914b0f4/dataset/2_glaucoma/Glaucoma_041.png  \n",
            "  inflating: repository/yiweichen04-retina_dataset-914b0f4/dataset/2_glaucoma/Glaucoma_042.png  \n",
            "  inflating: repository/yiweichen04-retina_dataset-914b0f4/dataset/2_glaucoma/Glaucoma_043.png  \n",
            "  inflating: repository/yiweichen04-retina_dataset-914b0f4/dataset/2_glaucoma/Glaucoma_044.png  \n",
            "  inflating: repository/yiweichen04-retina_dataset-914b0f4/dataset/2_glaucoma/Glaucoma_045.png  \n",
            "  inflating: repository/yiweichen04-retina_dataset-914b0f4/dataset/2_glaucoma/Glaucoma_046.png  \n",
            "  inflating: repository/yiweichen04-retina_dataset-914b0f4/dataset/2_glaucoma/Glaucoma_047.png  \n",
            "  inflating: repository/yiweichen04-retina_dataset-914b0f4/dataset/2_glaucoma/Glaucoma_048.png  \n",
            "  inflating: repository/yiweichen04-retina_dataset-914b0f4/dataset/2_glaucoma/Glaucoma_049.png  \n",
            "  inflating: repository/yiweichen04-retina_dataset-914b0f4/dataset/2_glaucoma/Glaucoma_050.png  \n",
            "  inflating: repository/yiweichen04-retina_dataset-914b0f4/dataset/2_glaucoma/Glaucoma_051.png  \n",
            "  inflating: repository/yiweichen04-retina_dataset-914b0f4/dataset/2_glaucoma/Glaucoma_052.png  \n",
            "  inflating: repository/yiweichen04-retina_dataset-914b0f4/dataset/2_glaucoma/Glaucoma_053.png  \n",
            "  inflating: repository/yiweichen04-retina_dataset-914b0f4/dataset/2_glaucoma/Glaucoma_054.png  \n",
            "  inflating: repository/yiweichen04-retina_dataset-914b0f4/dataset/2_glaucoma/Glaucoma_055.png  \n",
            "  inflating: repository/yiweichen04-retina_dataset-914b0f4/dataset/2_glaucoma/Glaucoma_056.png  \n",
            "  inflating: repository/yiweichen04-retina_dataset-914b0f4/dataset/2_glaucoma/Glaucoma_057.png  \n",
            "  inflating: repository/yiweichen04-retina_dataset-914b0f4/dataset/2_glaucoma/Glaucoma_058.png  \n",
            "  inflating: repository/yiweichen04-retina_dataset-914b0f4/dataset/2_glaucoma/Glaucoma_059.png  \n",
            "  inflating: repository/yiweichen04-retina_dataset-914b0f4/dataset/2_glaucoma/Glaucoma_060.png  \n",
            "  inflating: repository/yiweichen04-retina_dataset-914b0f4/dataset/2_glaucoma/Glaucoma_061.png  \n",
            "  inflating: repository/yiweichen04-retina_dataset-914b0f4/dataset/2_glaucoma/Glaucoma_062.png  \n",
            "  inflating: repository/yiweichen04-retina_dataset-914b0f4/dataset/2_glaucoma/Glaucoma_063.png  \n",
            "  inflating: repository/yiweichen04-retina_dataset-914b0f4/dataset/2_glaucoma/Glaucoma_064.png  \n",
            "  inflating: repository/yiweichen04-retina_dataset-914b0f4/dataset/2_glaucoma/Glaucoma_065.png  \n",
            "  inflating: repository/yiweichen04-retina_dataset-914b0f4/dataset/2_glaucoma/Glaucoma_066.png  \n",
            "  inflating: repository/yiweichen04-retina_dataset-914b0f4/dataset/2_glaucoma/Glaucoma_067.png  \n",
            "  inflating: repository/yiweichen04-retina_dataset-914b0f4/dataset/2_glaucoma/Glaucoma_068.png  \n",
            "  inflating: repository/yiweichen04-retina_dataset-914b0f4/dataset/2_glaucoma/Glaucoma_069.png  \n",
            "  inflating: repository/yiweichen04-retina_dataset-914b0f4/dataset/2_glaucoma/Glaucoma_070.png  \n",
            "  inflating: repository/yiweichen04-retina_dataset-914b0f4/dataset/2_glaucoma/Glaucoma_071.png  \n",
            "  inflating: repository/yiweichen04-retina_dataset-914b0f4/dataset/2_glaucoma/Glaucoma_072.png  \n",
            "  inflating: repository/yiweichen04-retina_dataset-914b0f4/dataset/2_glaucoma/Glaucoma_073.png  \n",
            "  inflating: repository/yiweichen04-retina_dataset-914b0f4/dataset/2_glaucoma/Glaucoma_074.png  \n",
            "  inflating: repository/yiweichen04-retina_dataset-914b0f4/dataset/2_glaucoma/Glaucoma_075.png  \n",
            "  inflating: repository/yiweichen04-retina_dataset-914b0f4/dataset/2_glaucoma/Glaucoma_076.png  \n",
            "  inflating: repository/yiweichen04-retina_dataset-914b0f4/dataset/2_glaucoma/Glaucoma_077.png  \n",
            "  inflating: repository/yiweichen04-retina_dataset-914b0f4/dataset/2_glaucoma/Glaucoma_078.png  \n",
            "  inflating: repository/yiweichen04-retina_dataset-914b0f4/dataset/2_glaucoma/Glaucoma_079.png  \n",
            "  inflating: repository/yiweichen04-retina_dataset-914b0f4/dataset/2_glaucoma/Glaucoma_080.png  \n",
            "  inflating: repository/yiweichen04-retina_dataset-914b0f4/dataset/2_glaucoma/Glaucoma_081.png  \n",
            "  inflating: repository/yiweichen04-retina_dataset-914b0f4/dataset/2_glaucoma/Glaucoma_082.png  \n",
            "  inflating: repository/yiweichen04-retina_dataset-914b0f4/dataset/2_glaucoma/Glaucoma_083.png  \n",
            "  inflating: repository/yiweichen04-retina_dataset-914b0f4/dataset/2_glaucoma/Glaucoma_084.png  \n",
            "  inflating: repository/yiweichen04-retina_dataset-914b0f4/dataset/2_glaucoma/Glaucoma_085.png  \n",
            "  inflating: repository/yiweichen04-retina_dataset-914b0f4/dataset/2_glaucoma/Glaucoma_086.png  \n",
            "  inflating: repository/yiweichen04-retina_dataset-914b0f4/dataset/2_glaucoma/Glaucoma_087.png  \n",
            "  inflating: repository/yiweichen04-retina_dataset-914b0f4/dataset/2_glaucoma/Glaucoma_088.png  \n",
            "  inflating: repository/yiweichen04-retina_dataset-914b0f4/dataset/2_glaucoma/Glaucoma_089.png  \n",
            "  inflating: repository/yiweichen04-retina_dataset-914b0f4/dataset/2_glaucoma/Glaucoma_090.png  \n",
            "  inflating: repository/yiweichen04-retina_dataset-914b0f4/dataset/2_glaucoma/Glaucoma_091.png  \n",
            "  inflating: repository/yiweichen04-retina_dataset-914b0f4/dataset/2_glaucoma/Glaucoma_092.png  \n",
            "  inflating: repository/yiweichen04-retina_dataset-914b0f4/dataset/2_glaucoma/Glaucoma_093.png  \n",
            "  inflating: repository/yiweichen04-retina_dataset-914b0f4/dataset/2_glaucoma/Glaucoma_094.png  \n",
            "  inflating: repository/yiweichen04-retina_dataset-914b0f4/dataset/2_glaucoma/Glaucoma_095.png  \n",
            "  inflating: repository/yiweichen04-retina_dataset-914b0f4/dataset/2_glaucoma/Glaucoma_096.png  \n",
            "  inflating: repository/yiweichen04-retina_dataset-914b0f4/dataset/2_glaucoma/Glaucoma_097.png  \n",
            "  inflating: repository/yiweichen04-retina_dataset-914b0f4/dataset/2_glaucoma/Glaucoma_098.png  \n",
            "  inflating: repository/yiweichen04-retina_dataset-914b0f4/dataset/2_glaucoma/Glaucoma_099.png  \n",
            "  inflating: repository/yiweichen04-retina_dataset-914b0f4/dataset/2_glaucoma/Glaucoma_100.png  \n",
            "  inflating: repository/yiweichen04-retina_dataset-914b0f4/dataset/2_glaucoma/Glaucoma_101.png  \n",
            "  inflating: repository/yiweichen04-retina_dataset-914b0f4/dataset/3_retina_disease/Retina_001.png  \n",
            "  inflating: repository/yiweichen04-retina_dataset-914b0f4/dataset/3_retina_disease/Retina_002.png  \n",
            "  inflating: repository/yiweichen04-retina_dataset-914b0f4/dataset/3_retina_disease/Retina_003.png  \n",
            "  inflating: repository/yiweichen04-retina_dataset-914b0f4/dataset/3_retina_disease/Retina_004.png  \n",
            "  inflating: repository/yiweichen04-retina_dataset-914b0f4/dataset/3_retina_disease/Retina_005.png  \n",
            "  inflating: repository/yiweichen04-retina_dataset-914b0f4/dataset/3_retina_disease/Retina_006.png  \n",
            "  inflating: repository/yiweichen04-retina_dataset-914b0f4/dataset/3_retina_disease/Retina_007.png  \n",
            "  inflating: repository/yiweichen04-retina_dataset-914b0f4/dataset/3_retina_disease/Retina_008.png  \n",
            "  inflating: repository/yiweichen04-retina_dataset-914b0f4/dataset/3_retina_disease/Retina_009.png  \n",
            "  inflating: repository/yiweichen04-retina_dataset-914b0f4/dataset/3_retina_disease/Retina_010.png  \n",
            "  inflating: repository/yiweichen04-retina_dataset-914b0f4/dataset/3_retina_disease/Retina_011.png  \n",
            "  inflating: repository/yiweichen04-retina_dataset-914b0f4/dataset/3_retina_disease/Retina_012.png  \n",
            "  inflating: repository/yiweichen04-retina_dataset-914b0f4/dataset/3_retina_disease/Retina_013.png  \n",
            "  inflating: repository/yiweichen04-retina_dataset-914b0f4/dataset/3_retina_disease/Retina_014.png  \n",
            "  inflating: repository/yiweichen04-retina_dataset-914b0f4/dataset/3_retina_disease/Retina_015.png  \n",
            "  inflating: repository/yiweichen04-retina_dataset-914b0f4/dataset/3_retina_disease/Retina_016.png  \n",
            "  inflating: repository/yiweichen04-retina_dataset-914b0f4/dataset/3_retina_disease/Retina_017.png  \n",
            "  inflating: repository/yiweichen04-retina_dataset-914b0f4/dataset/3_retina_disease/Retina_018.png  \n",
            "  inflating: repository/yiweichen04-retina_dataset-914b0f4/dataset/3_retina_disease/Retina_019.png  \n",
            "  inflating: repository/yiweichen04-retina_dataset-914b0f4/dataset/3_retina_disease/Retina_020.png  \n",
            "  inflating: repository/yiweichen04-retina_dataset-914b0f4/dataset/3_retina_disease/Retina_021.png  \n",
            "  inflating: repository/yiweichen04-retina_dataset-914b0f4/dataset/3_retina_disease/Retina_022.png  \n",
            "  inflating: repository/yiweichen04-retina_dataset-914b0f4/dataset/3_retina_disease/Retina_023.png  \n",
            "  inflating: repository/yiweichen04-retina_dataset-914b0f4/dataset/3_retina_disease/Retina_024.png  \n",
            "  inflating: repository/yiweichen04-retina_dataset-914b0f4/dataset/3_retina_disease/Retina_025.png  \n",
            "  inflating: repository/yiweichen04-retina_dataset-914b0f4/dataset/3_retina_disease/Retina_026.png  \n",
            "  inflating: repository/yiweichen04-retina_dataset-914b0f4/dataset/3_retina_disease/Retina_027.png  \n",
            "  inflating: repository/yiweichen04-retina_dataset-914b0f4/dataset/3_retina_disease/Retina_028.png  \n",
            "  inflating: repository/yiweichen04-retina_dataset-914b0f4/dataset/3_retina_disease/Retina_029.png  \n",
            "  inflating: repository/yiweichen04-retina_dataset-914b0f4/dataset/3_retina_disease/Retina_030.png  \n",
            "  inflating: repository/yiweichen04-retina_dataset-914b0f4/dataset/3_retina_disease/Retina_031.png  \n",
            "  inflating: repository/yiweichen04-retina_dataset-914b0f4/dataset/3_retina_disease/Retina_032.png  \n",
            "  inflating: repository/yiweichen04-retina_dataset-914b0f4/dataset/3_retina_disease/Retina_033.png  \n",
            "  inflating: repository/yiweichen04-retina_dataset-914b0f4/dataset/3_retina_disease/Retina_034.png  \n",
            "  inflating: repository/yiweichen04-retina_dataset-914b0f4/dataset/3_retina_disease/Retina_035.png  \n",
            "  inflating: repository/yiweichen04-retina_dataset-914b0f4/dataset/3_retina_disease/Retina_036.png  \n",
            "  inflating: repository/yiweichen04-retina_dataset-914b0f4/dataset/3_retina_disease/Retina_037.png  \n",
            "  inflating: repository/yiweichen04-retina_dataset-914b0f4/dataset/3_retina_disease/Retina_038.png  \n",
            "  inflating: repository/yiweichen04-retina_dataset-914b0f4/dataset/3_retina_disease/Retina_039.png  \n",
            "  inflating: repository/yiweichen04-retina_dataset-914b0f4/dataset/3_retina_disease/Retina_040.png  \n",
            "  inflating: repository/yiweichen04-retina_dataset-914b0f4/dataset/3_retina_disease/Retina_041.png  \n",
            "  inflating: repository/yiweichen04-retina_dataset-914b0f4/dataset/3_retina_disease/Retina_042.png  \n",
            "  inflating: repository/yiweichen04-retina_dataset-914b0f4/dataset/3_retina_disease/Retina_043.png  \n",
            "  inflating: repository/yiweichen04-retina_dataset-914b0f4/dataset/3_retina_disease/Retina_044.png  \n",
            "  inflating: repository/yiweichen04-retina_dataset-914b0f4/dataset/3_retina_disease/Retina_045.png  \n",
            "  inflating: repository/yiweichen04-retina_dataset-914b0f4/dataset/3_retina_disease/Retina_046.png  \n",
            "  inflating: repository/yiweichen04-retina_dataset-914b0f4/dataset/3_retina_disease/Retina_047.png  \n",
            "  inflating: repository/yiweichen04-retina_dataset-914b0f4/dataset/3_retina_disease/Retina_048.png  \n",
            "  inflating: repository/yiweichen04-retina_dataset-914b0f4/dataset/3_retina_disease/Retina_049.png  \n",
            "  inflating: repository/yiweichen04-retina_dataset-914b0f4/dataset/3_retina_disease/Retina_050.png  \n",
            "  inflating: repository/yiweichen04-retina_dataset-914b0f4/dataset/3_retina_disease/Retina_051.png  \n",
            "  inflating: repository/yiweichen04-retina_dataset-914b0f4/dataset/3_retina_disease/Retina_052.png  \n",
            "  inflating: repository/yiweichen04-retina_dataset-914b0f4/dataset/3_retina_disease/Retina_053.png  \n",
            "  inflating: repository/yiweichen04-retina_dataset-914b0f4/dataset/3_retina_disease/Retina_054.png  \n",
            "  inflating: repository/yiweichen04-retina_dataset-914b0f4/dataset/3_retina_disease/Retina_055.png  \n",
            "  inflating: repository/yiweichen04-retina_dataset-914b0f4/dataset/3_retina_disease/Retina_056.png  \n",
            "  inflating: repository/yiweichen04-retina_dataset-914b0f4/dataset/3_retina_disease/Retina_057.png  \n",
            "  inflating: repository/yiweichen04-retina_dataset-914b0f4/dataset/3_retina_disease/Retina_058.png  \n",
            "  inflating: repository/yiweichen04-retina_dataset-914b0f4/dataset/3_retina_disease/Retina_059.png  \n",
            "  inflating: repository/yiweichen04-retina_dataset-914b0f4/dataset/3_retina_disease/Retina_060.png  \n",
            "  inflating: repository/yiweichen04-retina_dataset-914b0f4/dataset/3_retina_disease/Retina_061.png  \n",
            "  inflating: repository/yiweichen04-retina_dataset-914b0f4/dataset/3_retina_disease/Retina_062.png  \n",
            "  inflating: repository/yiweichen04-retina_dataset-914b0f4/dataset/3_retina_disease/Retina_063.png  \n",
            "  inflating: repository/yiweichen04-retina_dataset-914b0f4/dataset/3_retina_disease/Retina_064.png  \n",
            "  inflating: repository/yiweichen04-retina_dataset-914b0f4/dataset/3_retina_disease/Retina_065.png  \n",
            "  inflating: repository/yiweichen04-retina_dataset-914b0f4/dataset/3_retina_disease/Retina_066.png  \n",
            "  inflating: repository/yiweichen04-retina_dataset-914b0f4/dataset/3_retina_disease/Retina_067.png  \n",
            "  inflating: repository/yiweichen04-retina_dataset-914b0f4/dataset/3_retina_disease/Retina_068.png  \n",
            "  inflating: repository/yiweichen04-retina_dataset-914b0f4/dataset/3_retina_disease/Retina_069.png  \n",
            "  inflating: repository/yiweichen04-retina_dataset-914b0f4/dataset/3_retina_disease/Retina_070.png  \n",
            "  inflating: repository/yiweichen04-retina_dataset-914b0f4/dataset/3_retina_disease/Retina_071.png  \n",
            "  inflating: repository/yiweichen04-retina_dataset-914b0f4/dataset/3_retina_disease/Retina_072.png  \n",
            "  inflating: repository/yiweichen04-retina_dataset-914b0f4/dataset/3_retina_disease/Retina_073.png  \n",
            "  inflating: repository/yiweichen04-retina_dataset-914b0f4/dataset/3_retina_disease/Retina_074.png  \n",
            "  inflating: repository/yiweichen04-retina_dataset-914b0f4/dataset/3_retina_disease/Retina_075.png  \n",
            "  inflating: repository/yiweichen04-retina_dataset-914b0f4/dataset/3_retina_disease/Retina_076.png  \n",
            "  inflating: repository/yiweichen04-retina_dataset-914b0f4/dataset/3_retina_disease/Retina_077.png  \n",
            "  inflating: repository/yiweichen04-retina_dataset-914b0f4/dataset/3_retina_disease/Retina_078.png  \n",
            "  inflating: repository/yiweichen04-retina_dataset-914b0f4/dataset/3_retina_disease/Retina_079.png  \n",
            "  inflating: repository/yiweichen04-retina_dataset-914b0f4/dataset/3_retina_disease/Retina_080.png  \n",
            "  inflating: repository/yiweichen04-retina_dataset-914b0f4/dataset/3_retina_disease/Retina_081.png  \n",
            "  inflating: repository/yiweichen04-retina_dataset-914b0f4/dataset/3_retina_disease/Retina_082.png  \n",
            "  inflating: repository/yiweichen04-retina_dataset-914b0f4/dataset/3_retina_disease/Retina_083.png  \n",
            "  inflating: repository/yiweichen04-retina_dataset-914b0f4/dataset/3_retina_disease/Retina_084.png  \n",
            "  inflating: repository/yiweichen04-retina_dataset-914b0f4/dataset/3_retina_disease/Retina_085.png  \n",
            "  inflating: repository/yiweichen04-retina_dataset-914b0f4/dataset/3_retina_disease/Retina_086.png  \n",
            "  inflating: repository/yiweichen04-retina_dataset-914b0f4/dataset/3_retina_disease/Retina_087.png  \n",
            "  inflating: repository/yiweichen04-retina_dataset-914b0f4/dataset/3_retina_disease/Retina_088.png  \n",
            "  inflating: repository/yiweichen04-retina_dataset-914b0f4/dataset/3_retina_disease/Retina_089.png  \n",
            "  inflating: repository/yiweichen04-retina_dataset-914b0f4/dataset/3_retina_disease/Retina_090.png  \n",
            "  inflating: repository/yiweichen04-retina_dataset-914b0f4/dataset/3_retina_disease/Retina_091.png  \n",
            "  inflating: repository/yiweichen04-retina_dataset-914b0f4/dataset/3_retina_disease/Retina_092.png  \n",
            "  inflating: repository/yiweichen04-retina_dataset-914b0f4/dataset/3_retina_disease/Retina_093.png  \n",
            "  inflating: repository/yiweichen04-retina_dataset-914b0f4/dataset/3_retina_disease/Retina_094.png  \n",
            "  inflating: repository/yiweichen04-retina_dataset-914b0f4/dataset/3_retina_disease/Retina_095.png  \n",
            "  inflating: repository/yiweichen04-retina_dataset-914b0f4/dataset/3_retina_disease/Retina_096.png  \n",
            "  inflating: repository/yiweichen04-retina_dataset-914b0f4/dataset/3_retina_disease/Retina_097.png  \n",
            "  inflating: repository/yiweichen04-retina_dataset-914b0f4/dataset/3_retina_disease/Retina_098.png  \n",
            "  inflating: repository/yiweichen04-retina_dataset-914b0f4/dataset/3_retina_disease/Retina_099.png  \n",
            "  inflating: repository/yiweichen04-retina_dataset-914b0f4/dataset/3_retina_disease/Retina_100.png  \n"
          ]
        }
      ]
    },
    {
      "cell_type": "markdown",
      "metadata": {
        "id": "KKRaYHABpob5"
      },
      "source": [
        "## Simple End-to-End Example"
      ]
    },
    {
      "cell_type": "markdown",
      "metadata": {
        "id": "SiZZ5DHXotaW"
      },
      "source": [
        "### Get the data path\n",
        "\n",
        "Let's get some images to play with this simple end-to-end example. Hundreds of images is a good start for Model Maker while more data could achieve better accuracy."
      ]
    },
    {
      "cell_type": "code",
      "execution_count": 12,
      "metadata": {
        "cellView": "form",
        "id": "3jz5x0JoskPv"
      },
      "outputs": [],
      "source": [
        "# image_path = tf.keras.utils.get_file(\n",
        "#       'flower_photos.tgz',\n",
        "#       'https://www.kaggle.com/datasets/jr2ngb/cataractdataset/download',\n",
        "#       extract=True)\n",
        "image_path = '/content/dataset'"
      ]
    },
    {
      "cell_type": "markdown",
      "metadata": {
        "id": "a55MR6i6nuDm"
      },
      "source": [
        "You could replace `image_path` with your own image folders. As for uploading data to colab, you could find the upload button in the left sidebar shown in the image below with the red rectangle. Just have a try to upload a zip file and unzip it. The root file path is the current path.\n",
        "\n",
        "<img src=\"https://storage.googleapis.com/download.tensorflow.org/models/tflite/screenshots/model_maker_image_classification.png\" alt=\"Upload File\" width=\"800\" hspace=\"100\">"
      ]
    },
    {
      "cell_type": "markdown",
      "metadata": {
        "id": "NNRNv_mloS89"
      },
      "source": [
        "If you prefer not to upload your images to the cloud, you could try to run the library locally following the [guide](https://github.com/tensorflow/examples/tree/master/tensorflow_examples/lite/model_maker) in GitHub."
      ]
    },
    {
      "cell_type": "markdown",
      "metadata": {
        "id": "w-VDriAdsowu"
      },
      "source": [
        "### Run the example\n",
        "The example just consists of 4 lines of code as shown below, each of which representing one step of the overall process.\n"
      ]
    },
    {
      "cell_type": "markdown",
      "metadata": {
        "id": "6ahtcO86tZBL"
      },
      "source": [
        "Step 1.   Load input data specific to an on-device ML app. Split it into training data and testing data."
      ]
    },
    {
      "cell_type": "code",
      "execution_count": 13,
      "metadata": {
        "id": "lANoNS_gtdH1",
        "outputId": "eed0d8b8-777c-47dd-f9b6-699ebff3bf44",
        "colab": {
          "base_uri": "https://localhost:8080/"
        }
      },
      "outputs": [
        {
          "output_type": "stream",
          "name": "stdout",
          "text": [
            "INFO:tensorflow:Load image with size: 601, num_label: 4, labels: 1_normal, 2_cataract, 2_glaucoma, 3_retina_disease.\n"
          ]
        }
      ],
      "source": [
        "data = DataLoader.from_folder(image_path)\n",
        "train_data, test_data = data.split(0.9)"
      ]
    },
    {
      "cell_type": "markdown",
      "metadata": {
        "id": "Y_9IWyIztuRF"
      },
      "source": [
        "Step 2. Customize the TensorFlow model."
      ]
    },
    {
      "cell_type": "code",
      "execution_count": 14,
      "metadata": {
        "id": "yRXMZbrwtyRD",
        "outputId": "515da3e0-33b2-48d6-ca01-c9566ef81258",
        "colab": {
          "base_uri": "https://localhost:8080/"
        }
      },
      "outputs": [
        {
          "output_type": "stream",
          "name": "stdout",
          "text": [
            "INFO:tensorflow:Retraining the models...\n",
            "Model: \"sequential\"\n",
            "_________________________________________________________________\n",
            " Layer (type)                Output Shape              Param #   \n",
            "=================================================================\n",
            " hub_keras_layer_v1v2 (HubKe  (None, 1280)             3413024   \n",
            " rasLayerV1V2)                                                   \n",
            "                                                                 \n",
            " dropout (Dropout)           (None, 1280)              0         \n",
            "                                                                 \n",
            " dense (Dense)               (None, 4)                 5124      \n",
            "                                                                 \n",
            "=================================================================\n",
            "Total params: 3,418,148\n",
            "Trainable params: 5,124\n",
            "Non-trainable params: 3,413,024\n",
            "_________________________________________________________________\n",
            "None\n",
            "Epoch 1/5\n"
          ]
        },
        {
          "output_type": "stream",
          "name": "stderr",
          "text": [
            "/usr/local/lib/python3.7/dist-packages/keras/optimizer_v2/gradient_descent.py:102: UserWarning: The `lr` argument is deprecated, use `learning_rate` instead.\n",
            "  super(SGD, self).__init__(name, **kwargs)\n"
          ]
        },
        {
          "output_type": "stream",
          "name": "stdout",
          "text": [
            "16/16 [==============================] - 82s 4s/step - loss: 1.3116 - accuracy: 0.4375\n",
            "Epoch 2/5\n",
            "16/16 [==============================] - 76s 5s/step - loss: 1.1446 - accuracy: 0.5371\n",
            "Epoch 3/5\n",
            "16/16 [==============================] - 75s 5s/step - loss: 1.0889 - accuracy: 0.5762\n",
            "Epoch 4/5\n",
            "16/16 [==============================] - 75s 5s/step - loss: 1.0654 - accuracy: 0.5840\n",
            "Epoch 5/5\n",
            "16/16 [==============================] - 75s 5s/step - loss: 1.0466 - accuracy: 0.5996\n"
          ]
        }
      ],
      "source": [
        "model = image_classifier.create(train_data)"
      ]
    },
    {
      "cell_type": "markdown",
      "metadata": {
        "id": "oxU2fDr-t2Ya"
      },
      "source": [
        "Step 3. Evaluate the model."
      ]
    },
    {
      "cell_type": "code",
      "execution_count": 15,
      "metadata": {
        "id": "wQr02VxJt6Cs",
        "outputId": "f999510d-866d-4652-c896-1d23d54bf5ee",
        "colab": {
          "base_uri": "https://localhost:8080/"
        }
      },
      "outputs": [
        {
          "output_type": "stream",
          "name": "stdout",
          "text": [
            "2/2 [==============================] - 38s 4s/step - loss: 0.9902 - accuracy: 0.6557\n"
          ]
        }
      ],
      "source": [
        "loss, accuracy = model.evaluate(test_data)"
      ]
    },
    {
      "cell_type": "markdown",
      "metadata": {
        "id": "eVZw9zU8t84y"
      },
      "source": [
        "Step 4.  Export to TensorFlow Lite model.\n",
        "\n",
        "Here, we export TensorFlow Lite model with [metadata](https://www.tensorflow.org/lite/convert/metadata) which provides a standard for model descriptions. The label file is embedded in metadata. The default post-training quantization technique is full integer quantization for the image classification task.\n",
        "\n",
        "You could download it in the left sidebar same as the uploading part for your own use."
      ]
    },
    {
      "cell_type": "code",
      "execution_count": 16,
      "metadata": {
        "id": "Zb-eIzfluCoa",
        "outputId": "8c946e05-0d2e-41c1-e258-e7e68ef49b03",
        "colab": {
          "base_uri": "https://localhost:8080/"
        }
      },
      "outputs": [
        {
          "output_type": "stream",
          "name": "stdout",
          "text": [
            "INFO:tensorflow:Assets written to: /tmp/tmp45vuqck6/assets\n"
          ]
        },
        {
          "output_type": "stream",
          "name": "stderr",
          "text": [
            "INFO:tensorflow:Assets written to: /tmp/tmp45vuqck6/assets\n",
            "/usr/local/lib/python3.7/dist-packages/tensorflow/lite/python/convert.py:746: UserWarning: Statistics for quantized inputs were expected, but not specified; continuing anyway.\n",
            "  warnings.warn(\"Statistics for quantized inputs were expected, but not \"\n"
          ]
        },
        {
          "output_type": "stream",
          "name": "stdout",
          "text": [
            "INFO:tensorflow:Label file is inside the TFLite model with metadata.\n"
          ]
        },
        {
          "output_type": "stream",
          "name": "stderr",
          "text": [
            "INFO:tensorflow:Label file is inside the TFLite model with metadata.\n"
          ]
        },
        {
          "output_type": "stream",
          "name": "stdout",
          "text": [
            "INFO:tensorflow:Saving labels in /tmp/tmp01du69o6/labels.txt\n"
          ]
        },
        {
          "output_type": "stream",
          "name": "stderr",
          "text": [
            "INFO:tensorflow:Saving labels in /tmp/tmp01du69o6/labels.txt\n"
          ]
        },
        {
          "output_type": "stream",
          "name": "stdout",
          "text": [
            "INFO:tensorflow:TensorFlow Lite model exported successfully: ./model.tflite\n"
          ]
        },
        {
          "output_type": "stream",
          "name": "stderr",
          "text": [
            "INFO:tensorflow:TensorFlow Lite model exported successfully: ./model.tflite\n"
          ]
        }
      ],
      "source": [
        "model.export(export_dir='.')"
      ]
    },
    {
      "cell_type": "markdown",
      "metadata": {
        "id": "pyju1qc_v-wy"
      },
      "source": [
        "After these simple 4 steps, we could further use TensorFlow Lite model file in on-device applications like in [image classification](https://github.com/tensorflow/examples/tree/master/lite/examples/image_classification) reference app."
      ]
    },
    {
      "cell_type": "markdown",
      "metadata": {
        "id": "R1QG32ivs9lF"
      },
      "source": [
        "## Detailed Process\n",
        "\n",
        "Currently, we support several models such as  EfficientNet-Lite* models, MobileNetV2, ResNet50 as pre-trained models for image classification. But it is very flexible to add new pre-trained models to this library with just a few lines of code.\n",
        "\n",
        "\n",
        "The following walks through this end-to-end example step by step to show more detail."
      ]
    },
    {
      "cell_type": "markdown",
      "metadata": {
        "id": "ygEncJxtl-nQ"
      },
      "source": [
        "### Step 1: Load Input Data Specific to an On-device ML App\n",
        "\n",
        "The flower dataset contains 3670 images belonging to 5 classes. Download the archive version of the dataset and untar it.\n",
        "\n",
        "The dataset has the following directory structure:\n",
        "\n",
        "<pre>\n",
        "<b>flower_photos</b>\n",
        "|__ <b>daisy</b>\n",
        "    |______ 100080576_f52e8ee070_n.jpg\n",
        "    |______ 14167534527_781ceb1b7a_n.jpg\n",
        "    |______ ...\n",
        "|__ <b>dandelion</b>\n",
        "    |______ 10043234166_e6dd915111_n.jpg\n",
        "    |______ 1426682852_e62169221f_m.jpg\n",
        "    |______ ...\n",
        "|__ <b>roses</b>\n",
        "    |______ 102501987_3cdb8e5394_n.jpg\n",
        "    |______ 14982802401_a3dfb22afb.jpg\n",
        "    |______ ...\n",
        "|__ <b>sunflowers</b>\n",
        "    |______ 12471791574_bb1be83df4.jpg\n",
        "    |______ 15122112402_cafa41934f.jpg\n",
        "    |______ ...\n",
        "|__ <b>tulips</b>\n",
        "    |______ 13976522214_ccec508fe7.jpg\n",
        "    |______ 14487943607_651e8062a1_m.jpg\n",
        "    |______ ...\n",
        "</pre>"
      ]
    },
    {
      "cell_type": "code",
      "execution_count": null,
      "metadata": {
        "id": "7tOfUr2KlgpU"
      },
      "outputs": [],
      "source": [
        "image_path = tf.keras.utils.get_file(\n",
        "      'flower_photos.tgz',\n",
        "      'https://storage.googleapis.com/download.tensorflow.org/example_images/flower_photos.tgz',\n",
        "      extract=True)\n",
        "image_path = os.path.join(os.path.dirname(image_path), 'flower_photos')"
      ]
    },
    {
      "cell_type": "markdown",
      "metadata": {
        "id": "E051HBUM5owi"
      },
      "source": [
        "Use `DataLoader` class to load data.\n",
        "\n",
        "As for `from_folder()` method, it could load data from the folder. It assumes that the image data of the same class are in the same subdirectory and the subfolder name is the class name. Currently, JPEG-encoded images and PNG-encoded images are supported."
      ]
    },
    {
      "cell_type": "code",
      "execution_count": 17,
      "metadata": {
        "id": "I_fOlZsklmlL",
        "outputId": "2a9f6801-4cd4-4b2e-917e-b975bd87c1bb",
        "colab": {
          "base_uri": "https://localhost:8080/"
        }
      },
      "outputs": [
        {
          "output_type": "stream",
          "name": "stdout",
          "text": [
            "INFO:tensorflow:Load image with size: 601, num_label: 4, labels: 1_normal, 2_cataract, 2_glaucoma, 3_retina_disease.\n"
          ]
        },
        {
          "output_type": "stream",
          "name": "stderr",
          "text": [
            "INFO:tensorflow:Load image with size: 601, num_label: 4, labels: 1_normal, 2_cataract, 2_glaucoma, 3_retina_disease.\n"
          ]
        }
      ],
      "source": [
        "data = DataLoader.from_folder(image_path)"
      ]
    },
    {
      "cell_type": "markdown",
      "metadata": {
        "id": "u501eT4koURB"
      },
      "source": [
        "Split it to training data (80%), validation data (10%, optional) and testing data (10%)."
      ]
    },
    {
      "cell_type": "code",
      "execution_count": 18,
      "metadata": {
        "id": "cY4UU5SUobtJ"
      },
      "outputs": [],
      "source": [
        "train_data, rest_data = data.split(0.8)\n",
        "validation_data, test_data = rest_data.split(0.5)"
      ]
    },
    {
      "cell_type": "markdown",
      "metadata": {
        "id": "Z9_MYPie3EMO"
      },
      "source": [
        "Show 25 image examples with labels."
      ]
    },
    {
      "cell_type": "code",
      "execution_count": 19,
      "metadata": {
        "id": "Ih4Wx44I482b",
        "outputId": "e5a5904c-0ff7-4716-ce0e-38de1627c1b5",
        "colab": {
          "base_uri": "https://localhost:8080/",
          "height": 560
        }
      },
      "outputs": [
        {
          "output_type": "display_data",
          "data": {
            "text/plain": [
              "<Figure size 720x720 with 25 Axes>"
            ],
            "image/png": "[encoded data removed]"
          },
          "metadata": {}
        }
      ],
      "source": [
        "plt.figure(figsize=(10,10))\n",
        "for i, (image, label) in enumerate(data.gen_dataset().unbatch().take(25)):\n",
        "  plt.subplot(5,5,i+1)\n",
        "  plt.xticks([])\n",
        "  plt.yticks([])\n",
        "  plt.grid(False)\n",
        "  plt.imshow(image.numpy(), cmap=plt.cm.gray)\n",
        "  plt.xlabel(data.index_to_label[label.numpy()])\n",
        "plt.show()"
      ]
    },
    {
      "cell_type": "markdown",
      "metadata": {
        "id": "AWuoensX4vDA"
      },
      "source": [
        "### Step 2: Customize the TensorFlow Model\n",
        "\n",
        "Create a custom image classifier model based on the loaded data. The default model is EfficientNet-Lite0.\n"
      ]
    },
    {
      "cell_type": "code",
      "execution_count": null,
      "metadata": {
        "id": "TvYSUuJY3QxR",
        "outputId": "1efdbf78-6e4a-4fad-c6e3-058ad14eaff1",
        "colab": {
          "base_uri": "https://localhost:8080/"
        }
      },
      "outputs": [
        {
          "metadata": {
            "tags": null
          },
          "name": "stdout",
          "output_type": "stream",
          "text": [
            "INFO:tensorflow:Retraining the models...\n"
          ]
        },
        {
          "metadata": {
            "tags": null
          },
          "name": "stderr",
          "output_type": "stream",
          "text": [
            "INFO:tensorflow:Retraining the models...\n"
          ]
        },
        {
          "metadata": {
            "tags": null
          },
          "name": "stdout",
          "output_type": "stream",
          "text": [
            "Model: \"sequential_1\"\n",
            "_________________________________________________________________\n",
            " Layer (type)                Output Shape              Param #   \n",
            "=================================================================\n",
            " hub_keras_layer_v1v2_1 (Hub  (None, 1280)             3413024   \n",
            " KerasLayerV1V2)                                                 \n",
            "                                                                 \n",
            " dropout_1 (Dropout)         (None, 1280)              0         \n",
            "                                                                 \n",
            " dense_1 (Dense)             (None, 4)                 5124      \n",
            "                                                                 \n",
            "=================================================================\n",
            "Total params: 3,418,148\n",
            "Trainable params: 5,124\n",
            "Non-trainable params: 3,413,024\n",
            "_________________________________________________________________\n",
            "None\n",
            "Epoch 1/5\n"
          ]
        },
        {
          "metadata": {
            "tags": null
          },
          "name": "stderr",
          "output_type": "stream",
          "text": [
            "/usr/local/lib/python3.7/dist-packages/keras/optimizer_v2/gradient_descent.py:102: UserWarning: The `lr` argument is deprecated, use `learning_rate` instead.\n",
            "  super(SGD, self).__init__(name, **kwargs)\n"
          ]
        },
        {
          "output_type": "stream",
          "name": "stdout",
          "text": [
            "15/15 [==============================] - 105s 7s/step - loss: 1.3282 - accuracy: 0.4271 - val_loss: 1.1655 - val_accuracy: 0.5000\n",
            "Epoch 2/5\n",
            "15/15 [==============================] - 101s 7s/step - loss: 1.1269 - accuracy: 0.5625 - val_loss: 1.0367 - val_accuracy: 0.5667\n",
            "Epoch 3/5\n",
            "15/15 [==============================] - 102s 7s/step - loss: 1.0658 - accuracy: 0.6146 - val_loss: 1.0093 - val_accuracy: 0.6333\n",
            "Epoch 4/5\n",
            "15/15 [==============================] - 101s 7s/step - loss: 1.0626 - accuracy: 0.6146 - val_loss: 0.9969 - val_accuracy: 0.6500\n",
            "Epoch 5/5\n",
            "15/15 [==============================] - 102s 7s/step - loss: 1.0301 - accuracy: 0.6417 - val_loss: 0.9808 - val_accuracy: 0.6667\n"
          ]
        }
      ],
      "source": [
        "model = image_classifier.create(train_data, validation_data=validation_data)"
      ]
    },
    {
      "cell_type": "markdown",
      "metadata": {
        "id": "4JFOKWnH9x8_"
      },
      "source": [
        "Have a look at the detailed model structure."
      ]
    },
    {
      "cell_type": "code",
      "execution_count": null,
      "metadata": {
        "id": "QNXAfjl192dC"
      },
      "outputs": [],
      "source": [
        "model.summary()"
      ]
    },
    {
      "cell_type": "markdown",
      "metadata": {
        "id": "LP5FPk_tOxoZ"
      },
      "source": [
        "### Step 3: Evaluate the Customized Model\n",
        "\n",
        "Evaluate the result of the model, get the loss and accuracy of the model."
      ]
    },
    {
      "cell_type": "code",
      "execution_count": null,
      "metadata": {
        "id": "A8c2ZQ0J3Riy"
      },
      "outputs": [],
      "source": [
        "loss, accuracy = model.evaluate(test_data)"
      ]
    },
    {
      "cell_type": "markdown",
      "metadata": {
        "id": "6ZCrYOWoCt05"
      },
      "source": [
        "We could plot the predicted results in 100 test images. Predicted labels with red color are the wrong predicted results while others are correct."
      ]
    },
    {
      "cell_type": "code",
      "execution_count": null,
      "metadata": {
        "id": "n9O9Kx7nDQWD"
      },
      "outputs": [],
      "source": [
        "# A helper function that returns 'red'/'black' depending on if its two input\n",
        "# parameter matches or not.\n",
        "def get_label_color(val1, val2):\n",
        "  if val1 == val2:\n",
        "    return 'black'\n",
        "  else:\n",
        "    return 'red'\n",
        "\n",
        "# Then plot 100 test images and their predicted labels.\n",
        "# If a prediction result is different from the label provided label in \"test\"\n",
        "# dataset, we will highlight it in red color.\n",
        "plt.figure(figsize=(20, 20))\n",
        "predicts = model.predict_top_k(test_data)\n",
        "for i, (image, label) in enumerate(test_data.gen_dataset().unbatch().take(100)):\n",
        "  ax = plt.subplot(10, 10, i+1)\n",
        "  plt.xticks([])\n",
        "  plt.yticks([])\n",
        "  plt.grid(False)\n",
        "  plt.imshow(image.numpy(), cmap=plt.cm.gray)\n",
        "\n",
        "  predict_label = predicts[i][0][0]\n",
        "  color = get_label_color(predict_label,\n",
        "                          test_data.index_to_label[label.numpy()])\n",
        "  ax.xaxis.label.set_color(color)\n",
        "  plt.xlabel('Predicted: %s' % predict_label)\n",
        "plt.show()"
      ]
    },
    {
      "cell_type": "markdown",
      "metadata": {
        "id": "S3H0rkbLUZAG"
      },
      "source": [
        "If the accuracy doesn't meet the app requirement, one could refer to [Advanced Usage](#scrollTo=zNDBP2qA54aK) to explore alternatives such as changing to a larger model, adjusting re-training parameters etc."
      ]
    },
    {
      "cell_type": "markdown",
      "metadata": {
        "id": "aeHoGAceO2xV"
      },
      "source": [
        "### Step 4: Export to TensorFlow Lite Model\n",
        "\n",
        "Convert the trained model to TensorFlow Lite model format with [metadata](https://www.tensorflow.org/lite/convert/metadata) so that you can later use in an on-device ML application. The label file and the vocab file are embedded in metadata. The default TFLite filename is `model.tflite`.\n",
        "\n",
        "In many on-device ML application, the model size is an important factor. Therefore, it is recommended that you apply quantize the model to make it smaller and potentially run faster.\n",
        "The default post-training quantization technique is full integer quantization for the image classification task."
      ]
    },
    {
      "cell_type": "code",
      "execution_count": null,
      "metadata": {
        "id": "Im6wA9lK3TQB"
      },
      "outputs": [],
      "source": [
        "model.export(export_dir='.')"
      ]
    },
    {
      "cell_type": "markdown",
      "metadata": {
        "id": "ROS2Ay2jMPCl"
      },
      "source": [
        "See [example applications and guides of image classification](https://www.tensorflow.org/lite/examples/image_classification/overview) for more details about how to integrate the TensorFlow Lite model into mobile apps.\n",
        "\n",
        "This model can be integrated into an Android or an iOS app using the [ImageClassifier API](https://www.tensorflow.org/lite/inference_with_metadata/task_library/image_classifier) of the [TensorFlow Lite Task Library](https://www.tensorflow.org/lite/inference_with_metadata/task_library/overview)."
      ]
    },
    {
      "cell_type": "markdown",
      "metadata": {
        "id": "habFnvRxxQ4A"
      },
      "source": [
        "The allowed export formats can be one or a list of the following:\n",
        "\n",
        "*   `ExportFormat.TFLITE`\n",
        "*   `ExportFormat.LABEL`\n",
        "*   `ExportFormat.SAVED_MODEL`\n",
        "\n",
        "By default, it just exports TensorFlow Lite model with metadata. You can also selectively export different files. For instance, exporting only the label file as follows:"
      ]
    },
    {
      "cell_type": "code",
      "execution_count": null,
      "metadata": {
        "id": "BvxWsOTmKG4P"
      },
      "outputs": [],
      "source": [
        "model.export(export_dir='.', export_format=ExportFormat.LABEL)"
      ]
    },
    {
      "cell_type": "markdown",
      "metadata": {
        "id": "-4jQaxyT5_KV"
      },
      "source": [
        "You can also evaluate the tflite model with the `evaluate_tflite` method."
      ]
    },
    {
      "cell_type": "code",
      "execution_count": null,
      "metadata": {
        "id": "S1YoPX5wOK-u"
      },
      "outputs": [],
      "source": [
        "model.evaluate_tflite('model.tflite', test_data)"
      ]
    },
    {
      "cell_type": "markdown",
      "metadata": {
        "id": "zNDBP2qA54aK"
      },
      "source": [
        "## Advanced Usage\n",
        "\n",
        "The `create` function is the critical part of this library. It uses transfer learning with a pretrained model similar to the [tutorial](https://www.tensorflow.org/tutorials/images/transfer_learning).\n",
        "\n",
        "The `create` function contains the following steps:\n",
        "\n",
        "1.   Split the data into training, validation, testing data according to parameter `validation_ratio` and `test_ratio`. The default value of `validation_ratio` and `test_ratio` are `0.1` and `0.1`.\n",
        "2.   Download a [Image Feature Vector](https://www.tensorflow.org/hub/common_signatures/images#image_feature_vector) as the base model from TensorFlow Hub. The default pre-trained model is  EfficientNet-Lite0.\n",
        "3.   Add a classifier head with a Dropout Layer with `dropout_rate` between head layer and pre-trained model. The default `dropout_rate` is the default `dropout_rate` value from [make_image_classifier_lib](https://github.com/tensorflow/hub/blob/master/tensorflow_hub/tools/make_image_classifier/make_image_classifier_lib.py#L55) by TensorFlow Hub.\n",
        "4.   Preprocess the raw input data. Currently, preprocessing steps including normalizing the value of each image pixel to model input scale and resizing it to model input size.   EfficientNet-Lite0 have the input scale `[0, 1]` and the input image size `[224, 224, 3]`.\n",
        "5.   Feed the data into the classifier model. By default, the training parameters such as training epochs, batch size, learning rate, momentum are the default values from [make_image_classifier_lib](https://github.com/tensorflow/hub/blob/master/tensorflow_hub/tools/make_image_classifier/make_image_classifier_lib.py#L55) by TensorFlow Hub. Only the classifier head is trained.\n",
        "\n",
        "\n",
        "In this section, we describe several advanced topics, including switching to a different image classification model, changing the training hyperparameters etc.\n"
      ]
    },
    {
      "cell_type": "markdown",
      "metadata": {
        "id": "Gc4Jk8TvBQfm"
      },
      "source": [
        "## Customize Post-training quantization on the TensorFLow Lite model\n"
      ]
    },
    {
      "cell_type": "markdown",
      "metadata": {
        "id": "tD8BOYrHBiDt"
      },
      "source": [
        "[Post-training quantization](https://www.tensorflow.org/lite/performance/post_training_quantization) is a conversion technique that can reduce model size and inference latency, while also improving CPU and hardware accelerator inference speed, with a little degradation in model accuracy. Thus, it's widely used to optimize the model.\n"
      ]
    },
    {
      "cell_type": "markdown",
      "metadata": {
        "id": "iyIo0d5TCzE2"
      },
      "source": [
        "Model Maker library applies a default post-training quantization techique when exporting the model. If you want to customize post-training quantization, Model Maker supports multiple post-training quantization options using [QuantizationConfig](https://www.tensorflow.org/lite/api_docs/python/tflite_model_maker/config/QuantizationConfig) as well. Let's take float16 quantization as an instance. First, define the quantization config."
      ]
    },
    {
      "cell_type": "code",
      "execution_count": null,
      "metadata": {
        "id": "k8hL2mstCxQl"
      },
      "outputs": [],
      "source": [
        "config = QuantizationConfig.for_float16()"
      ]
    },
    {
      "cell_type": "markdown",
      "metadata": {
        "id": "K1gzx_rmFMOA"
      },
      "source": [
        "Then we export the TensorFlow Lite model with such configuration."
      ]
    },
    {
      "cell_type": "code",
      "execution_count": null,
      "metadata": {
        "id": "WTJzFQnJFMjr"
      },
      "outputs": [],
      "source": [
        "model.export(export_dir='.', tflite_filename='model_fp16.tflite', quantization_config=config)"
      ]
    },
    {
      "cell_type": "markdown",
      "metadata": {
        "id": "Safo0e40wKZW"
      },
      "source": [
        "In Colab, you can download the model named `model_fp16.tflite` from the left sidebar, same as the uploading part mentioned above."
      ]
    },
    {
      "cell_type": "markdown",
      "metadata": {
        "id": "A4kiTJtZ_sDm"
      },
      "source": [
        "## Change the model\n"
      ]
    },
    {
      "cell_type": "markdown",
      "metadata": {
        "id": "794vgj6ud7Ep"
      },
      "source": [
        "### Change to the model that's supported in this library.\n",
        "\n",
        "This library supports  EfficientNet-Lite models, MobileNetV2, ResNet50 by now. [EfficientNet-Lite](https://github.com/tensorflow/tpu/tree/master/models/official/efficientnet/lite) are a family of image classification models that could achieve state-of-art accuracy and suitable for Edge devices. The default model is EfficientNet-Lite0.\n",
        "\n",
        "We could switch model to MobileNetV2 by just setting parameter `model_spec` to the MobileNetV2 model specification in `create` method."
      ]
    },
    {
      "cell_type": "code",
      "execution_count": null,
      "metadata": {
        "id": "7JKsJ6-P6ae1"
      },
      "outputs": [],
      "source": [
        "model = image_classifier.create(train_data, model_spec=model_spec.get('mobilenet_v2'), validation_data=validation_data)"
      ]
    },
    {
      "cell_type": "markdown",
      "metadata": {
        "id": "gm_B1Wv08AxR"
      },
      "source": [
        "Evaluate the newly retrained MobileNetV2 model to see the accuracy and loss in testing data."
      ]
    },
    {
      "cell_type": "code",
      "execution_count": null,
      "metadata": {
        "id": "lB2Go3HW8X7_"
      },
      "outputs": [],
      "source": [
        "loss, accuracy = model.evaluate(test_data)"
      ]
    },
    {
      "cell_type": "markdown",
      "metadata": {
        "id": "vAciGzVWtmWp"
      },
      "source": [
        "### Change to the model in TensorFlow Hub\n",
        "\n",
        "Moreover, we could also switch to other new models that inputs an image and outputs a feature vector with TensorFlow Hub format.\n",
        "\n",
        "As [Inception V3](https://tfhub.dev/google/imagenet/inception_v3/feature_vector/1) model as an example, we could define `inception_v3_spec` which is an object of [image_classifier.ModelSpec](https://www.tensorflow.org/lite/api_docs/python/tflite_model_maker/image_classifier/ModelSpec) and contains the specification of the Inception V3 model.\n",
        "\n",
        "We need to specify the model name `name`, the url of the TensorFlow Hub model `uri`. Meanwhile, the default value of `input_image_shape` is `[224, 224]`. We need to change it to `[299, 299]` for Inception V3 model."
      ]
    },
    {
      "cell_type": "code",
      "execution_count": null,
      "metadata": {
        "id": "xdiMF2WMfAR4"
      },
      "outputs": [],
      "source": [
        "inception_v3_spec = image_classifier.ModelSpec(\n",
        "    uri='https://tfhub.dev/google/imagenet/inception_v3/feature_vector/1')\n",
        "inception_v3_spec.input_image_shape = [299, 299]"
      ]
    },
    {
      "cell_type": "markdown",
      "metadata": {
        "id": "T_GGIoXZCs5F"
      },
      "source": [
        "Then, by setting parameter `model_spec` to `inception_v3_spec` in `create` method, we could retrain the Inception V3 model.\n",
        "\n",
        "The remaining steps are exactly same and we could get a customized InceptionV3 TensorFlow Lite model in the end."
      ]
    },
    {
      "cell_type": "markdown",
      "metadata": {
        "id": "UhZ5IRKdeex3"
      },
      "source": [
        "### Change your own custom model"
      ]
    },
    {
      "cell_type": "markdown",
      "metadata": {
        "id": "svTjlZhrCrcV"
      },
      "source": [
        "If we'd like to use the custom model that's not in TensorFlow Hub, we should create and export [ModelSpec](https://www.tensorflow.org/hub/api_docs/python/hub/ModuleSpec) in TensorFlow Hub.\n",
        "\n",
        "Then start to define `ModelSpec` object like the process above."
      ]
    },
    {
      "cell_type": "markdown",
      "metadata": {
        "id": "4M9bn703AHt2"
      },
      "source": [
        "## Change the training hyperparameters\n",
        "We could also change the training hyperparameters like `epochs`, `dropout_rate` and `batch_size` that could affect the model accuracy. The model parameters you can adjust are:\n",
        "\n",
        "\n",
        "*   `epochs`: more epochs could achieve better accuracy until it converges but training for too many epochs may lead to overfitting.\n",
        "*   `dropout_rate`: The rate for dropout, avoid overfitting. None by default.\n",
        "*   `batch_size`: number of samples to use in one training step.  None by default.\n",
        "*   `validation_data`: Validation data. If None, skips validation process. None by default.\n",
        "*   `train_whole_model`: If true, the Hub module is trained together with the classification layer on top. Otherwise, only train the top classification layer. None by default.\n",
        "*   `learning_rate`: Base learning rate. None by default.\n",
        "*   `momentum`: a Python float forwarded to the optimizer. Only used when\n",
        "      `use_hub_library` is True. None by default.\n",
        "*   `shuffle`: Boolean, whether the data should be shuffled. False by default.\n",
        "*   `use_augmentation`: Boolean, use data augmentation for preprocessing. False by default.\n",
        "*   `use_hub_library`: Boolean, use `make_image_classifier_lib` from tensorflow hub to retrain the model. This training pipeline could achieve better performance for complicated dataset with many categories. True by default. \n",
        "*   `warmup_steps`: Number of warmup steps for warmup schedule on learning rate. If None, the default warmup_steps is used which is the total training steps in two epochs. Only used when `use_hub_library` is False. None by default.\n",
        "*   `model_dir`: Optional, the location of the model checkpoint files. Only used when `use_hub_library` is False. None by default.\n",
        "\n",
        "Parameters which are None by default like `epochs` will get the concrete default parameters in [make_image_classifier_lib](https://github.com/tensorflow/hub/blob/02ab9b7d3455e99e97abecf43c5d598a5528e20c/tensorflow_hub/tools/make_image_classifier/make_image_classifier_lib.py#L54) from TensorFlow Hub library or  [train_image_classifier_lib](https://github.com/tensorflow/examples/blob/f0260433d133fd3cea4a920d1e53ecda07163aee/tensorflow_examples/lite/model_maker/core/task/train_image_classifier_lib.py#L61).\n",
        "\n",
        "For example, we could train with more epochs.\n"
      ]
    },
    {
      "cell_type": "code",
      "execution_count": null,
      "metadata": {
        "id": "A3k7mhH54QcK"
      },
      "outputs": [],
      "source": [
        "model = image_classifier.create(train_data, validation_data=validation_data, epochs=10)"
      ]
    },
    {
      "cell_type": "markdown",
      "metadata": {
        "id": "VaYBQymQDsXU"
      },
      "source": [
        "Evaluate the newly retrained model with 10 training epochs."
      ]
    },
    {
      "cell_type": "code",
      "execution_count": null,
      "metadata": {
        "id": "VafIYpKWD4Sw"
      },
      "outputs": [],
      "source": [
        "loss, accuracy = model.evaluate(test_data)"
      ]
    },
    {
      "cell_type": "markdown",
      "metadata": {
        "id": "dhBU5NCy5Ji2"
      },
      "source": [
        "# Read more\n",
        "\n",
        "You can read our [image classification](https://www.tensorflow.org/lite/examples/image_classification/overview) example to learn technical details. For more information, please refer to:\n",
        "\n",
        "*   TensorFlow Lite Model Maker [guide](https://www.tensorflow.org/lite/guide/model_maker) and [API reference](https://www.tensorflow.org/lite/api_docs/python/tflite_model_maker).\n",
        "*   Task Library: [ImageClassifier](https://www.tensorflow.org/lite/inference_with_metadata/task_library/image_classifier) for deployment.\n",
        "*   The end-to-end reference apps: [Android](https://github.com/tensorflow/examples/tree/master/lite/examples/image_classification/android), [iOS](https://github.com/tensorflow/examples/tree/master/lite/examples/image_classification/ios), and [Raspberry PI](https://github.com/tensorflow/examples/tree/master/lite/examples/image_classification/raspberry_pi).\n",
        "\n"
      ]
    }
  ],
  "metadata": {
    "accelerator": "GPU",
    "colab": {
      "collapsed_sections": [],
      "name": "Model Maker Image Classification Tutorial",
      "provenance": []
    },
    "kernelspec": {
      "display_name": "Python 3",
      "name": "python3"
    }
  },
  "nbformat": 4,
  "nbformat_minor": 0
}